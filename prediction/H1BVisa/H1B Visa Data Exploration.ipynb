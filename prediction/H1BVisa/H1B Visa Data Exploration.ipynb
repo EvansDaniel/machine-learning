{
 "cells": [
  {
   "cell_type": "markdown",
   "metadata": {},
   "source": [
    "### Goal is to predict CASE_STATUS variable\n",
    "\n",
    "#### Data is from https://www.foreignlaborcert.doleta.gov/performancedata.cfm#dis LCA Programs (H-1B, H-1B1, E-3). NAICS data from https://www.census.gov/eos/www/naics/downloadables/downloadables.html"
   ]
  },
  {
   "cell_type": "code",
   "execution_count": 1,
   "metadata": {},
   "outputs": [],
   "source": [
    "import seaborn as sns\n",
    "import numpy as np\n",
    "import matplotlib.pyplot as plt\n",
    "import pandas as pd\n",
    "import sys \n",
    "import os\n",
    "from scipy import stats\n",
    "from scipy.stats import norm\n",
    "plt.style.use('ggplot')\n",
    "sys.path.append(os.path.abspath(\"../../shared\"))\n",
    "from sklearn.preprocessing import LabelEncoder\n",
    "from sklearn.ensemble import RandomForestRegressor\n",
    "from sklearn import metrics\n",
    "from sklearn.model_selection import train_test_split, cross_val_score\n",
    "import feature_selection\n",
    "import helpers\n",
    "import eda\n",
    "import preprocessing\n",
    "%matplotlib inline"
   ]
  },
  {
   "cell_type": "code",
   "execution_count": 2,
   "metadata": {},
   "outputs": [],
   "source": [
    "emp_raw_data = pd.read_csv('H-1B_Disclosure_Data_FY17.csv', \n",
    "                           dtype={'EMPLOYER_PROVINCE': str, 'EMPLOYER_PHONE': str, 'EMPLOYER_PHONE_EXT': str, 'NAICS_CODE': str})\n",
    "naics_raw_data = pd.read_csv('2017_NAICS_Descriptions.csv')"
   ]
  },
  {
   "cell_type": "code",
   "execution_count": 3,
   "metadata": {},
   "outputs": [
    {
     "name": "stdout",
     "output_type": "stream",
     "text": [
      "(624650, 53)\n",
      "(2196, 4)\n"
     ]
    }
   ],
   "source": [
    "print(emp_raw_data.shape)\n",
    "print(naics_raw_data.shape)"
   ]
  },
  {
   "cell_type": "code",
   "execution_count": 4,
   "metadata": {},
   "outputs": [],
   "source": [
    "emp_data = emp_raw_data.drop(labels=['Unnamed: 0', 'PUBLIC_DISCLOSURE_LOCATION'], axis=1)\n",
    "naics_data = naics_raw_data.drop(labels='Unnamed: 0', axis=1)"
   ]
  },
  {
   "cell_type": "code",
   "execution_count": 5,
   "metadata": {
    "scrolled": false
   },
   "outputs": [
    {
     "data": {
      "text/html": [
       "<div>\n",
       "<style scoped>\n",
       "    .dataframe tbody tr th:only-of-type {\n",
       "        vertical-align: middle;\n",
       "    }\n",
       "\n",
       "    .dataframe tbody tr th {\n",
       "        vertical-align: top;\n",
       "    }\n",
       "\n",
       "    .dataframe thead th {\n",
       "        text-align: right;\n",
       "    }\n",
       "</style>\n",
       "<table border=\"1\" class=\"dataframe\">\n",
       "  <thead>\n",
       "    <tr style=\"text-align: right;\">\n",
       "      <th></th>\n",
       "      <th>CASE_NUMBER</th>\n",
       "      <th>CASE_STATUS</th>\n",
       "      <th>CASE_SUBMITTED</th>\n",
       "      <th>DECISION_DATE</th>\n",
       "      <th>VISA_CLASS</th>\n",
       "      <th>EMPLOYMENT_START_DATE</th>\n",
       "      <th>EMPLOYMENT_END_DATE</th>\n",
       "      <th>EMPLOYER_NAME</th>\n",
       "      <th>EMPLOYER_BUSINESS_DBA</th>\n",
       "      <th>EMPLOYER_ADDRESS</th>\n",
       "      <th>EMPLOYER_CITY</th>\n",
       "      <th>EMPLOYER_STATE</th>\n",
       "      <th>EMPLOYER_POSTAL_CODE</th>\n",
       "      <th>EMPLOYER_COUNTRY</th>\n",
       "      <th>EMPLOYER_PROVINCE</th>\n",
       "      <th>EMPLOYER_PHONE</th>\n",
       "      <th>EMPLOYER_PHONE_EXT</th>\n",
       "      <th>AGENT_REPRESENTING_EMPLOYER</th>\n",
       "      <th>AGENT_ATTORNEY_NAME</th>\n",
       "      <th>AGENT_ATTORNEY_CITY</th>\n",
       "      <th>AGENT_ATTORNEY_STATE</th>\n",
       "      <th>JOB_TITLE</th>\n",
       "      <th>SOC_CODE</th>\n",
       "      <th>SOC_NAME</th>\n",
       "      <th>NAICS_CODE</th>\n",
       "      <th>TOTAL_WORKERS</th>\n",
       "      <th>NEW_EMPLOYMENT</th>\n",
       "      <th>CONTINUED_EMPLOYMENT</th>\n",
       "      <th>CHANGE_PREVIOUS_EMPLOYMENT</th>\n",
       "      <th>NEW_CONCURRENT_EMPLOYMENT</th>\n",
       "      <th>CHANGE_EMPLOYER</th>\n",
       "      <th>AMENDED_PETITION</th>\n",
       "      <th>FULL_TIME_POSITION</th>\n",
       "      <th>PREVAILING_WAGE</th>\n",
       "      <th>PW_UNIT_OF_PAY</th>\n",
       "      <th>PW_WAGE_LEVEL</th>\n",
       "      <th>PW_SOURCE</th>\n",
       "      <th>PW_SOURCE_YEAR</th>\n",
       "      <th>PW_SOURCE_OTHER</th>\n",
       "      <th>WAGE_RATE_OF_PAY_FROM</th>\n",
       "      <th>WAGE_RATE_OF_PAY_TO</th>\n",
       "      <th>WAGE_UNIT_OF_PAY</th>\n",
       "      <th>H1B_DEPENDENT</th>\n",
       "      <th>WILLFUL_VIOLATOR</th>\n",
       "      <th>SUPPORT_H1B</th>\n",
       "      <th>LABOR_CON_AGREE</th>\n",
       "      <th>WORKSITE_CITY</th>\n",
       "      <th>WORKSITE_COUNTY</th>\n",
       "      <th>WORKSITE_STATE</th>\n",
       "      <th>WORKSITE_POSTAL_CODE</th>\n",
       "      <th>ORIGINAL_CERT_DATE</th>\n",
       "    </tr>\n",
       "  </thead>\n",
       "  <tbody>\n",
       "    <tr>\n",
       "      <th>0</th>\n",
       "      <td>I-200-16055-173457</td>\n",
       "      <td>CERTIFIED-WITHDRAWN</td>\n",
       "      <td>2016-02-24</td>\n",
       "      <td>2016-10-01</td>\n",
       "      <td>H-1B</td>\n",
       "      <td>2016-08-10</td>\n",
       "      <td>2019-08-10</td>\n",
       "      <td>DISCOVER PRODUCTS INC.</td>\n",
       "      <td>NaN</td>\n",
       "      <td>2500 LAKE COOK ROAD</td>\n",
       "      <td>RIVERWOODS</td>\n",
       "      <td>IL</td>\n",
       "      <td>60015</td>\n",
       "      <td>UNITED STATES OF AMERICA</td>\n",
       "      <td>NaN</td>\n",
       "      <td>2244050900</td>\n",
       "      <td>NaN</td>\n",
       "      <td>Y</td>\n",
       "      <td>ELLSWORTH, CHAD</td>\n",
       "      <td>NEW YORK</td>\n",
       "      <td>NY</td>\n",
       "      <td>ASSOCIATE DATA INTEGRATION</td>\n",
       "      <td>15-1121</td>\n",
       "      <td>COMPUTER SYSTEMS ANALYSTS</td>\n",
       "      <td>522210</td>\n",
       "      <td>1</td>\n",
       "      <td>1</td>\n",
       "      <td>0</td>\n",
       "      <td>0</td>\n",
       "      <td>0</td>\n",
       "      <td>0</td>\n",
       "      <td>0</td>\n",
       "      <td>Y</td>\n",
       "      <td>59197.0</td>\n",
       "      <td>Year</td>\n",
       "      <td>Level I</td>\n",
       "      <td>OES</td>\n",
       "      <td>2015.0</td>\n",
       "      <td>OFLC ONLINE DATA CENTER</td>\n",
       "      <td>65811.0</td>\n",
       "      <td>67320.0</td>\n",
       "      <td>Year</td>\n",
       "      <td>N</td>\n",
       "      <td>N</td>\n",
       "      <td>NaN</td>\n",
       "      <td>Y</td>\n",
       "      <td>RIVERWOODS</td>\n",
       "      <td>LAKE</td>\n",
       "      <td>IL</td>\n",
       "      <td>60015</td>\n",
       "      <td>2016-03-01</td>\n",
       "    </tr>\n",
       "    <tr>\n",
       "      <th>1</th>\n",
       "      <td>I-200-16064-557834</td>\n",
       "      <td>CERTIFIED-WITHDRAWN</td>\n",
       "      <td>2016-03-04</td>\n",
       "      <td>2016-10-01</td>\n",
       "      <td>H-1B</td>\n",
       "      <td>2016-08-16</td>\n",
       "      <td>2019-08-16</td>\n",
       "      <td>DFS SERVICES LLC</td>\n",
       "      <td>NaN</td>\n",
       "      <td>2500 LAKE COOK ROAD</td>\n",
       "      <td>RIVERWOODS</td>\n",
       "      <td>IL</td>\n",
       "      <td>60015</td>\n",
       "      <td>UNITED STATES OF AMERICA</td>\n",
       "      <td>NaN</td>\n",
       "      <td>2244050900</td>\n",
       "      <td>NaN</td>\n",
       "      <td>Y</td>\n",
       "      <td>ELLSWORTH, CHAD</td>\n",
       "      <td>NEW YORK</td>\n",
       "      <td>NY</td>\n",
       "      <td>SENIOR ASSOCIATE</td>\n",
       "      <td>15-2031</td>\n",
       "      <td>OPERATIONS RESEARCH ANALYSTS</td>\n",
       "      <td>522210</td>\n",
       "      <td>1</td>\n",
       "      <td>1</td>\n",
       "      <td>0</td>\n",
       "      <td>0</td>\n",
       "      <td>0</td>\n",
       "      <td>0</td>\n",
       "      <td>0</td>\n",
       "      <td>Y</td>\n",
       "      <td>49800.0</td>\n",
       "      <td>Year</td>\n",
       "      <td>NaN</td>\n",
       "      <td>Other</td>\n",
       "      <td>2015.0</td>\n",
       "      <td>TOWERS WATSON DATA SERVICES 2015 CSR PROFESSIO...</td>\n",
       "      <td>53000.0</td>\n",
       "      <td>57200.0</td>\n",
       "      <td>Year</td>\n",
       "      <td>N</td>\n",
       "      <td>N</td>\n",
       "      <td>NaN</td>\n",
       "      <td>Y</td>\n",
       "      <td>RIVERWOODS</td>\n",
       "      <td>LAKE</td>\n",
       "      <td>IL</td>\n",
       "      <td>60015</td>\n",
       "      <td>2016-03-08</td>\n",
       "    </tr>\n",
       "    <tr>\n",
       "      <th>2</th>\n",
       "      <td>I-200-16063-996093</td>\n",
       "      <td>CERTIFIED-WITHDRAWN</td>\n",
       "      <td>2016-03-10</td>\n",
       "      <td>2016-10-01</td>\n",
       "      <td>H-1B</td>\n",
       "      <td>2016-09-09</td>\n",
       "      <td>2019-09-09</td>\n",
       "      <td>EASTBANC TECHNOLOGIES LLC</td>\n",
       "      <td>NaN</td>\n",
       "      <td>1211 31ST ST. NW</td>\n",
       "      <td>WASHINGTON</td>\n",
       "      <td>DC</td>\n",
       "      <td>20007</td>\n",
       "      <td>UNITED STATES OF AMERICA</td>\n",
       "      <td>NaN</td>\n",
       "      <td>2022953000</td>\n",
       "      <td>NaN</td>\n",
       "      <td>Y</td>\n",
       "      <td>BURKE, KAREN</td>\n",
       "      <td>WASHINGTON</td>\n",
       "      <td>DC</td>\n",
       "      <td>.NET SOFTWARE PROGRAMMER</td>\n",
       "      <td>15-1131</td>\n",
       "      <td>COMPUTER PROGRAMMERS</td>\n",
       "      <td>541511</td>\n",
       "      <td>2</td>\n",
       "      <td>2</td>\n",
       "      <td>0</td>\n",
       "      <td>0</td>\n",
       "      <td>0</td>\n",
       "      <td>0</td>\n",
       "      <td>0</td>\n",
       "      <td>Y</td>\n",
       "      <td>76502.0</td>\n",
       "      <td>Year</td>\n",
       "      <td>Level II</td>\n",
       "      <td>OES</td>\n",
       "      <td>2015.0</td>\n",
       "      <td>OFLC ONLINE DATA CENTER</td>\n",
       "      <td>77000.0</td>\n",
       "      <td>0.0</td>\n",
       "      <td>Year</td>\n",
       "      <td>Y</td>\n",
       "      <td>N</td>\n",
       "      <td>Y</td>\n",
       "      <td>NaN</td>\n",
       "      <td>WASHINGTON</td>\n",
       "      <td>NaN</td>\n",
       "      <td>DC</td>\n",
       "      <td>20007</td>\n",
       "      <td>2016-03-16</td>\n",
       "    </tr>\n",
       "    <tr>\n",
       "      <th>3</th>\n",
       "      <td>I-200-16272-196340</td>\n",
       "      <td>WITHDRAWN</td>\n",
       "      <td>2016-09-28</td>\n",
       "      <td>2016-10-01</td>\n",
       "      <td>H-1B</td>\n",
       "      <td>2017-01-26</td>\n",
       "      <td>2020-01-25</td>\n",
       "      <td>INFO SERVICES LLC</td>\n",
       "      <td>NaN</td>\n",
       "      <td>17177 NORTH LAUREL PARK DR</td>\n",
       "      <td>LIVONIA</td>\n",
       "      <td>MI</td>\n",
       "      <td>48152</td>\n",
       "      <td>UNITED STATES OF AMERICA</td>\n",
       "      <td>NaN</td>\n",
       "      <td>7343776007</td>\n",
       "      <td>NaN</td>\n",
       "      <td>N</td>\n",
       "      <td>,</td>\n",
       "      <td>NaN</td>\n",
       "      <td>NaN</td>\n",
       "      <td>PROJECT MANAGER</td>\n",
       "      <td>15-1199</td>\n",
       "      <td>COMPUTER OCCUPATIONS, ALL OTHER</td>\n",
       "      <td>541511</td>\n",
       "      <td>1</td>\n",
       "      <td>1</td>\n",
       "      <td>0</td>\n",
       "      <td>0</td>\n",
       "      <td>0</td>\n",
       "      <td>0</td>\n",
       "      <td>0</td>\n",
       "      <td>Y</td>\n",
       "      <td>90376.0</td>\n",
       "      <td>Year</td>\n",
       "      <td>Level III</td>\n",
       "      <td>OES</td>\n",
       "      <td>2016.0</td>\n",
       "      <td>OFLC ONLINE DATA CENTER</td>\n",
       "      <td>102000.0</td>\n",
       "      <td>0.0</td>\n",
       "      <td>Year</td>\n",
       "      <td>Y</td>\n",
       "      <td>N</td>\n",
       "      <td>Y</td>\n",
       "      <td>NaN</td>\n",
       "      <td>JERSEY CITY</td>\n",
       "      <td>HUDSON</td>\n",
       "      <td>NJ</td>\n",
       "      <td>07302</td>\n",
       "      <td>NaN</td>\n",
       "    </tr>\n",
       "    <tr>\n",
       "      <th>4</th>\n",
       "      <td>I-200-15053-636744</td>\n",
       "      <td>CERTIFIED-WITHDRAWN</td>\n",
       "      <td>2015-02-22</td>\n",
       "      <td>2016-10-02</td>\n",
       "      <td>H-1B</td>\n",
       "      <td>2015-03-01</td>\n",
       "      <td>2018-03-01</td>\n",
       "      <td>BB&amp;T CORPORATION</td>\n",
       "      <td>NaN</td>\n",
       "      <td>223 WEST NASH STREET</td>\n",
       "      <td>WILSON</td>\n",
       "      <td>NC</td>\n",
       "      <td>27893</td>\n",
       "      <td>UNITED STATES OF AMERICA</td>\n",
       "      <td>NaN</td>\n",
       "      <td>2522462031</td>\n",
       "      <td>NaN</td>\n",
       "      <td>Y</td>\n",
       "      <td>SCOFIELD, EILEEN</td>\n",
       "      <td>ATLANTA</td>\n",
       "      <td>GA</td>\n",
       "      <td>ASSOCIATE - ESOTERIC ASSET BACKED SECURITIES</td>\n",
       "      <td>13-2041</td>\n",
       "      <td>CREDIT ANALYSTS</td>\n",
       "      <td>522110</td>\n",
       "      <td>1</td>\n",
       "      <td>0</td>\n",
       "      <td>0</td>\n",
       "      <td>0</td>\n",
       "      <td>0</td>\n",
       "      <td>1</td>\n",
       "      <td>0</td>\n",
       "      <td>Y</td>\n",
       "      <td>116605.0</td>\n",
       "      <td>Year</td>\n",
       "      <td>Level III</td>\n",
       "      <td>OES</td>\n",
       "      <td>2015.0</td>\n",
       "      <td>OFLC ONLINE DATA CENTER</td>\n",
       "      <td>132500.0</td>\n",
       "      <td>0.0</td>\n",
       "      <td>Year</td>\n",
       "      <td>N</td>\n",
       "      <td>N</td>\n",
       "      <td>NaN</td>\n",
       "      <td>Y</td>\n",
       "      <td>NEW YORK</td>\n",
       "      <td>NEW YORK</td>\n",
       "      <td>NY</td>\n",
       "      <td>10036</td>\n",
       "      <td>2015-02-26</td>\n",
       "    </tr>\n",
       "  </tbody>\n",
       "</table>\n",
       "</div>"
      ],
      "text/plain": [
       "          CASE_NUMBER          CASE_STATUS CASE_SUBMITTED DECISION_DATE  \\\n",
       "0  I-200-16055-173457  CERTIFIED-WITHDRAWN     2016-02-24    2016-10-01   \n",
       "1  I-200-16064-557834  CERTIFIED-WITHDRAWN     2016-03-04    2016-10-01   \n",
       "2  I-200-16063-996093  CERTIFIED-WITHDRAWN     2016-03-10    2016-10-01   \n",
       "3  I-200-16272-196340            WITHDRAWN     2016-09-28    2016-10-01   \n",
       "4  I-200-15053-636744  CERTIFIED-WITHDRAWN     2015-02-22    2016-10-02   \n",
       "\n",
       "  VISA_CLASS EMPLOYMENT_START_DATE EMPLOYMENT_END_DATE  \\\n",
       "0       H-1B            2016-08-10          2019-08-10   \n",
       "1       H-1B            2016-08-16          2019-08-16   \n",
       "2       H-1B            2016-09-09          2019-09-09   \n",
       "3       H-1B            2017-01-26          2020-01-25   \n",
       "4       H-1B            2015-03-01          2018-03-01   \n",
       "\n",
       "               EMPLOYER_NAME EMPLOYER_BUSINESS_DBA  \\\n",
       "0     DISCOVER PRODUCTS INC.                   NaN   \n",
       "1           DFS SERVICES LLC                   NaN   \n",
       "2  EASTBANC TECHNOLOGIES LLC                   NaN   \n",
       "3          INFO SERVICES LLC                   NaN   \n",
       "4           BB&T CORPORATION                   NaN   \n",
       "\n",
       "             EMPLOYER_ADDRESS EMPLOYER_CITY EMPLOYER_STATE  \\\n",
       "0         2500 LAKE COOK ROAD    RIVERWOODS             IL   \n",
       "1         2500 LAKE COOK ROAD    RIVERWOODS             IL   \n",
       "2            1211 31ST ST. NW    WASHINGTON             DC   \n",
       "3  17177 NORTH LAUREL PARK DR       LIVONIA             MI   \n",
       "4        223 WEST NASH STREET        WILSON             NC   \n",
       "\n",
       "  EMPLOYER_POSTAL_CODE          EMPLOYER_COUNTRY EMPLOYER_PROVINCE  \\\n",
       "0                60015  UNITED STATES OF AMERICA               NaN   \n",
       "1                60015  UNITED STATES OF AMERICA               NaN   \n",
       "2                20007  UNITED STATES OF AMERICA               NaN   \n",
       "3                48152  UNITED STATES OF AMERICA               NaN   \n",
       "4                27893  UNITED STATES OF AMERICA               NaN   \n",
       "\n",
       "  EMPLOYER_PHONE EMPLOYER_PHONE_EXT AGENT_REPRESENTING_EMPLOYER  \\\n",
       "0     2244050900                NaN                           Y   \n",
       "1     2244050900                NaN                           Y   \n",
       "2     2022953000                NaN                           Y   \n",
       "3     7343776007                NaN                           N   \n",
       "4     2522462031                NaN                           Y   \n",
       "\n",
       "  AGENT_ATTORNEY_NAME AGENT_ATTORNEY_CITY AGENT_ATTORNEY_STATE  \\\n",
       "0     ELLSWORTH, CHAD            NEW YORK                   NY   \n",
       "1     ELLSWORTH, CHAD            NEW YORK                   NY   \n",
       "2        BURKE, KAREN          WASHINGTON                   DC   \n",
       "3                   ,                 NaN                  NaN   \n",
       "4    SCOFIELD, EILEEN             ATLANTA                   GA   \n",
       "\n",
       "                                      JOB_TITLE SOC_CODE  \\\n",
       "0                    ASSOCIATE DATA INTEGRATION  15-1121   \n",
       "1                              SENIOR ASSOCIATE  15-2031   \n",
       "2                      .NET SOFTWARE PROGRAMMER  15-1131   \n",
       "3                               PROJECT MANAGER  15-1199   \n",
       "4  ASSOCIATE - ESOTERIC ASSET BACKED SECURITIES  13-2041   \n",
       "\n",
       "                          SOC_NAME NAICS_CODE  TOTAL_WORKERS  NEW_EMPLOYMENT  \\\n",
       "0        COMPUTER SYSTEMS ANALYSTS     522210              1               1   \n",
       "1     OPERATIONS RESEARCH ANALYSTS     522210              1               1   \n",
       "2             COMPUTER PROGRAMMERS     541511              2               2   \n",
       "3  COMPUTER OCCUPATIONS, ALL OTHER     541511              1               1   \n",
       "4                  CREDIT ANALYSTS     522110              1               0   \n",
       "\n",
       "   CONTINUED_EMPLOYMENT  CHANGE_PREVIOUS_EMPLOYMENT  \\\n",
       "0                     0                           0   \n",
       "1                     0                           0   \n",
       "2                     0                           0   \n",
       "3                     0                           0   \n",
       "4                     0                           0   \n",
       "\n",
       "   NEW_CONCURRENT_EMPLOYMENT  CHANGE_EMPLOYER  AMENDED_PETITION  \\\n",
       "0                          0                0                 0   \n",
       "1                          0                0                 0   \n",
       "2                          0                0                 0   \n",
       "3                          0                0                 0   \n",
       "4                          0                1                 0   \n",
       "\n",
       "  FULL_TIME_POSITION  PREVAILING_WAGE PW_UNIT_OF_PAY PW_WAGE_LEVEL PW_SOURCE  \\\n",
       "0                  Y          59197.0           Year       Level I       OES   \n",
       "1                  Y          49800.0           Year           NaN     Other   \n",
       "2                  Y          76502.0           Year      Level II       OES   \n",
       "3                  Y          90376.0           Year     Level III       OES   \n",
       "4                  Y         116605.0           Year     Level III       OES   \n",
       "\n",
       "   PW_SOURCE_YEAR                                    PW_SOURCE_OTHER  \\\n",
       "0          2015.0                            OFLC ONLINE DATA CENTER   \n",
       "1          2015.0  TOWERS WATSON DATA SERVICES 2015 CSR PROFESSIO...   \n",
       "2          2015.0                            OFLC ONLINE DATA CENTER   \n",
       "3          2016.0                            OFLC ONLINE DATA CENTER   \n",
       "4          2015.0                            OFLC ONLINE DATA CENTER   \n",
       "\n",
       "   WAGE_RATE_OF_PAY_FROM  WAGE_RATE_OF_PAY_TO WAGE_UNIT_OF_PAY H1B_DEPENDENT  \\\n",
       "0                65811.0              67320.0             Year             N   \n",
       "1                53000.0              57200.0             Year             N   \n",
       "2                77000.0                  0.0             Year             Y   \n",
       "3               102000.0                  0.0             Year             Y   \n",
       "4               132500.0                  0.0             Year             N   \n",
       "\n",
       "  WILLFUL_VIOLATOR SUPPORT_H1B LABOR_CON_AGREE WORKSITE_CITY WORKSITE_COUNTY  \\\n",
       "0                N         NaN               Y    RIVERWOODS            LAKE   \n",
       "1                N         NaN               Y    RIVERWOODS            LAKE   \n",
       "2                N           Y             NaN    WASHINGTON             NaN   \n",
       "3                N           Y             NaN   JERSEY CITY          HUDSON   \n",
       "4                N         NaN               Y      NEW YORK        NEW YORK   \n",
       "\n",
       "  WORKSITE_STATE WORKSITE_POSTAL_CODE ORIGINAL_CERT_DATE  \n",
       "0             IL                60015         2016-03-01  \n",
       "1             IL                60015         2016-03-08  \n",
       "2             DC                20007         2016-03-16  \n",
       "3             NJ                07302                NaN  \n",
       "4             NY                10036         2015-02-26  "
      ]
     },
     "execution_count": 5,
     "metadata": {},
     "output_type": "execute_result"
    }
   ],
   "source": [
    "emp_data.head()"
   ]
  },
  {
   "cell_type": "markdown",
   "metadata": {},
   "source": [
    "### The naics data will be used to see the industry of the company so as to see which industries get the most H1-B visas certified"
   ]
  },
  {
   "cell_type": "code",
   "execution_count": 6,
   "metadata": {},
   "outputs": [
    {
     "data": {
      "text/html": [
       "<div>\n",
       "<style scoped>\n",
       "    .dataframe tbody tr th:only-of-type {\n",
       "        vertical-align: middle;\n",
       "    }\n",
       "\n",
       "    .dataframe tbody tr th {\n",
       "        vertical-align: top;\n",
       "    }\n",
       "\n",
       "    .dataframe thead th {\n",
       "        text-align: right;\n",
       "    }\n",
       "</style>\n",
       "<table border=\"1\" class=\"dataframe\">\n",
       "  <thead>\n",
       "    <tr style=\"text-align: right;\">\n",
       "      <th></th>\n",
       "      <th>Code</th>\n",
       "      <th>Title</th>\n",
       "      <th>Description</th>\n",
       "    </tr>\n",
       "  </thead>\n",
       "  <tbody>\n",
       "    <tr>\n",
       "      <th>0</th>\n",
       "      <td>11</td>\n",
       "      <td>Agriculture, Forestry, Fishing and HuntingT</td>\n",
       "      <td>The Sector as a Whole\\n\\nThe Agriculture, Fore...</td>\n",
       "    </tr>\n",
       "    <tr>\n",
       "      <th>1</th>\n",
       "      <td>111</td>\n",
       "      <td>Crop ProductionT</td>\n",
       "      <td>Industries in the Crop Production subsector gr...</td>\n",
       "    </tr>\n",
       "    <tr>\n",
       "      <th>2</th>\n",
       "      <td>1111</td>\n",
       "      <td>Oilseed and Grain FarmingT</td>\n",
       "      <td>This industry group comprises establishments p...</td>\n",
       "    </tr>\n",
       "    <tr>\n",
       "      <th>3</th>\n",
       "      <td>11111</td>\n",
       "      <td>Soybean FarmingT</td>\n",
       "      <td>See industry description for 111110.</td>\n",
       "    </tr>\n",
       "    <tr>\n",
       "      <th>4</th>\n",
       "      <td>111110</td>\n",
       "      <td>Soybean Farming</td>\n",
       "      <td>This industry comprises establishments primari...</td>\n",
       "    </tr>\n",
       "  </tbody>\n",
       "</table>\n",
       "</div>"
      ],
      "text/plain": [
       "     Code                                        Title  \\\n",
       "0      11  Agriculture, Forestry, Fishing and HuntingT   \n",
       "1     111                            Crop ProductionT    \n",
       "2    1111                   Oilseed and Grain FarmingT   \n",
       "3   11111                             Soybean FarmingT   \n",
       "4  111110                              Soybean Farming   \n",
       "\n",
       "                                         Description  \n",
       "0  The Sector as a Whole\\n\\nThe Agriculture, Fore...  \n",
       "1  Industries in the Crop Production subsector gr...  \n",
       "2  This industry group comprises establishments p...  \n",
       "3               See industry description for 111110.  \n",
       "4  This industry comprises establishments primari...  "
      ]
     },
     "execution_count": 6,
     "metadata": {},
     "output_type": "execute_result"
    }
   ],
   "source": [
    "naics_data.head()"
   ]
  },
  {
   "cell_type": "code",
   "execution_count": 7,
   "metadata": {},
   "outputs": [],
   "source": [
    "#missing_data = preprocessing.percent_missing(emp_data)\n",
    "#missing_data.head(25)"
   ]
  },
  {
   "cell_type": "markdown",
   "metadata": {},
   "source": [
    "### Exploratory Analysis"
   ]
  },
  {
   "cell_type": "code",
   "execution_count": 8,
   "metadata": {},
   "outputs": [
    {
     "name": "stderr",
     "output_type": "stream",
     "text": [
      "/home/daniel/mlenv/lib/python2.7/site-packages/ipykernel_launcher.py:3: FutureWarning: '.reindex_axis' is deprecated and will be removed in a future version. Use '.reindex' instead.\n",
      "  This is separate from the ipykernel package so we can avoid doing imports until\n"
     ]
    }
   ],
   "source": [
    "emp_data = emp_data[emp_data['VISA_CLASS'] == 'H-1B']\n",
    "emp_data = emp_data.drop(labels=['VISA_CLASS'], axis=1)\n",
    "emp_data = emp_data.reindex_axis(sorted(emp_data.columns), axis=1)"
   ]
  },
  {
   "cell_type": "code",
   "execution_count": 9,
   "metadata": {},
   "outputs": [
    {
     "data": {
      "image/png": "[encoded data removed]",
      "text/plain": [
       "<matplotlib.figure.Figure at 0x7f01e5a70750>"
      ]
     },
     "metadata": {},
     "output_type": "display_data"
    }
   ],
   "source": [
    "#sns.factorplot(kind='count', x=emp_data1['FULL_TIME_POSITION'])\n",
    "f, ax = plt.subplots(1,2)\n",
    "#emp_data[emp_data['FULL_TIME_POSITION'] == 'N']['CASE_STATUS'].value_counts().plot.bar(ax=ax[0], title='Part time position')\n",
    "#emp_data[emp_data['FULL_TIME_POSITION'] == 'Y']['CASE_STATUS'].value_counts().plot.bar(ax=ax[1], title='Full time position')\n",
    "emp_data['FULL_TIME_POSITION'].value_counts().plot.bar()\n",
    "plt.tight_layout()"
   ]
  },
  {
   "cell_type": "code",
   "execution_count": 10,
   "metadata": {},
   "outputs": [
    {
     "data": {
      "text/plain": [
       "0    I-200-16055-173457\n",
       "1    I-200-16064-557834\n",
       "2    I-200-16063-996093\n",
       "3    I-200-16272-196340\n",
       "4    I-200-15053-636744\n",
       "Name: CASE_NUMBER, dtype: object"
      ]
     },
     "execution_count": 10,
     "metadata": {},
     "output_type": "execute_result"
    }
   ],
   "source": [
    "emp_data['CASE_NUMBER'].head()"
   ]
  },
  {
   "cell_type": "code",
   "execution_count": 11,
   "metadata": {},
   "outputs": [
    {
     "data": {
      "text/plain": [
       "Index([u'AGENT_ATTORNEY_CITY', u'AGENT_ATTORNEY_NAME', u'AGENT_ATTORNEY_STATE',\n",
       "       u'AGENT_REPRESENTING_EMPLOYER', u'AMENDED_PETITION', u'CASE_NUMBER',\n",
       "       u'CASE_STATUS', u'CASE_SUBMITTED', u'CHANGE_EMPLOYER',\n",
       "       u'CHANGE_PREVIOUS_EMPLOYMENT', u'CONTINUED_EMPLOYMENT',\n",
       "       u'DECISION_DATE', u'EMPLOYER_ADDRESS', u'EMPLOYER_BUSINESS_DBA',\n",
       "       u'EMPLOYER_CITY', u'EMPLOYER_COUNTRY', u'EMPLOYER_NAME',\n",
       "       u'EMPLOYER_PHONE', u'EMPLOYER_PHONE_EXT', u'EMPLOYER_POSTAL_CODE',\n",
       "       u'EMPLOYER_PROVINCE', u'EMPLOYER_STATE', u'EMPLOYMENT_END_DATE',\n",
       "       u'EMPLOYMENT_START_DATE', u'FULL_TIME_POSITION', u'H1B_DEPENDENT',\n",
       "       u'JOB_TITLE', u'LABOR_CON_AGREE', u'NAICS_CODE',\n",
       "       u'NEW_CONCURRENT_EMPLOYMENT', u'NEW_EMPLOYMENT', u'ORIGINAL_CERT_DATE',\n",
       "       u'PREVAILING_WAGE', u'PW_SOURCE', u'PW_SOURCE_OTHER', u'PW_SOURCE_YEAR',\n",
       "       u'PW_UNIT_OF_PAY', u'PW_WAGE_LEVEL', u'SOC_CODE', u'SOC_NAME',\n",
       "       u'SUPPORT_H1B', u'TOTAL_WORKERS', u'WAGE_RATE_OF_PAY_FROM',\n",
       "       u'WAGE_RATE_OF_PAY_TO', u'WAGE_UNIT_OF_PAY', u'WILLFUL_VIOLATOR',\n",
       "       u'WORKSITE_CITY', u'WORKSITE_COUNTY', u'WORKSITE_POSTAL_CODE',\n",
       "       u'WORKSITE_STATE'],\n",
       "      dtype='object')"
      ]
     },
     "execution_count": 11,
     "metadata": {},
     "output_type": "execute_result"
    }
   ],
   "source": [
    "emp_data.columns"
   ]
  },
  {
   "cell_type": "code",
   "execution_count": 12,
   "metadata": {},
   "outputs": [
    {
     "data": {
      "image/png": "[encoded data removed]",
      "text/plain": [
       "<matplotlib.figure.Figure at 0x7f01e5a70350>"
      ]
     },
     "metadata": {},
     "output_type": "display_data"
    }
   ],
   "source": [
    "emp_data.JOB_TITLE.value_counts().sort_values(ascending=False).head(25).plot(kind='barh',color='blue');"
   ]
  },
  {
   "cell_type": "code",
   "execution_count": 13,
   "metadata": {},
   "outputs": [
    {
     "data": {
      "image/png": "[encoded data removed]",
      "text/plain": [
       "<matplotlib.figure.Figure at 0x7f0213f4dc10>"
      ]
     },
     "metadata": {},
     "output_type": "display_data"
    }
   ],
   "source": [
    "emp_data.EMPLOYER_STATE.value_counts().sort_values(ascending=False).head(25).plot(kind='barh',color='blue');"
   ]
  },
  {
   "cell_type": "code",
   "execution_count": 14,
   "metadata": {},
   "outputs": [
    {
     "data": {
      "text/plain": [
       "<matplotlib.axes._subplots.AxesSubplot at 0x7f02136b5a50>"
      ]
     },
     "execution_count": 14,
     "metadata": {},
     "output_type": "execute_result"
    },
    {
     "data": {
      "image/png": "[encoded data removed]",
      "text/plain": [
       "<matplotlib.figure.Figure at 0x7f02136bee50>"
      ]
     },
     "metadata": {},
     "output_type": "display_data"
    }
   ],
   "source": [
    "#sns.factorplot(kind='count', data=emp_data, x='')\n",
    "sns.distplot(emp_data['WAGE_RATE_OF_PAY_FROM'])"
   ]
  },
  {
   "cell_type": "code",
   "execution_count": 15,
   "metadata": {},
   "outputs": [
    {
     "data": {
      "text/plain": [
       "count    6.103040e+05\n",
       "mean     8.243484e+04\n",
       "std      4.175534e+04\n",
       "min      0.000000e+00\n",
       "25%      6.300000e+04\n",
       "50%      7.579600e+04\n",
       "75%      9.914400e+04\n",
       "max      1.688000e+06\n",
       "Name: WAGE_RATE_OF_PAY_FROM, dtype: float64"
      ]
     },
     "execution_count": 15,
     "metadata": {},
     "output_type": "execute_result"
    }
   ],
   "source": [
    "emp_data['WAGE_RATE_OF_PAY_FROM'].describe()"
   ]
  },
  {
   "cell_type": "code",
   "execution_count": null,
   "metadata": {},
   "outputs": [],
   "source": []
  },
  {
   "cell_type": "code",
   "execution_count": null,
   "metadata": {},
   "outputs": [],
   "source": []
  }
 ],
 "metadata": {
  "kernelspec": {
   "display_name": "Python 2",
   "language": "python",
   "name": "python2"
  },
  "language_info": {
   "codemirror_mode": {
    "name": "ipython",
    "version": 2
   },
   "file_extension": ".py",
   "mimetype": "text/x-python",
   "name": "python",
   "nbconvert_exporter": "python",
   "pygments_lexer": "ipython2",
   "version": "2.7.12"
  }
 },
 "nbformat": 4,
 "nbformat_minor": 2
}
