{
 "cells": [
  {
   "cell_type": "markdown",
   "metadata": {},
   "source": [
    "### Heart Disease data set from Kaggle: https://www.kaggle.com/uciml/pima-indians-diabetes-database/data"
   ]
  },
  {
   "cell_type": "markdown",
   "metadata": {},
   "source": [
    "# You will need to unzip pima-indians-diabetes-database.zip for this code to work"
   ]
  },
  {
   "cell_type": "markdown",
   "metadata": {
    "toc": true
   },
   "source": [
    "<h1>Table of Contents<span class=\"tocSkip\"></span></h1>\n",
    "<div class=\"toc\" style=\"margin-top: 1em;\"><ul class=\"toc-item\"><li><ul class=\"toc-item\"><li><ul class=\"toc-item\"><li><span><a href=\"#Heart-Disease-data-set-from-Kaggle:-https://www.kaggle.com/uciml/pima-indians-diabetes-database/data\" data-toc-modified-id=\"Heart-Disease-data-set-from-Kaggle:-https://www.kaggle.com/uciml/pima-indians-diabetes-database/data-0.0.1\"><span class=\"toc-item-num\">0.0.1&nbsp;&nbsp;</span>Heart Disease data set from Kaggle: <a href=\"https://www.kaggle.com/uciml/pima-indians-diabetes-database/data\" target=\"_blank\">https://www.kaggle.com/uciml/pima-indians-diabetes-database/data</a></a></span></li></ul></li></ul></li><li><span><a href=\"#You-will-need-to-unzip-pima-indians-diabetes-database.zip-for-this-code-to-work\" data-toc-modified-id=\"You-will-need-to-unzip-pima-indians-diabetes-database.zip-for-this-code-to-work-1\"><span class=\"toc-item-num\">1&nbsp;&nbsp;</span>You will need to unzip pima-indians-diabetes-database.zip for this code to work</a></span><ul class=\"toc-item\"><li><ul class=\"toc-item\"><li><span><a href=\"#The-model:\" data-toc-modified-id=\"The-model:-1.0.1\"><span class=\"toc-item-num\">1.0.1&nbsp;&nbsp;</span>The model:</a></span></li><li><span><a href=\"#Log-likelihood-of-the-data-(b/c-X-is-assumed-iid):\" data-toc-modified-id=\"Log-likelihood-of-the-data-(b/c-X-is-assumed-iid):-1.0.2\"><span class=\"toc-item-num\">1.0.2&nbsp;&nbsp;</span>Log-likelihood of the data (b/c X is assumed iid):</a></span></li><li><span><a href=\"#So-maximizing-this-w/-respect-to-each-parameter-gives-us-the-maximum-likelihood-estimates-for-that-parameter.-We-can-do-so-by-(unsurprisingly)-taking-the-partial-derivative-w/-respect-to-each-parameter,-set-it-equal-to-0,-and-solve-the-equation.-Reference:-http://web.engr.oregonstate.edu/~xfern/classes/cs534/notes/LDA.pdf\" data-toc-modified-id=\"So-maximizing-this-w/-respect-to-each-parameter-gives-us-the-maximum-likelihood-estimates-for-that-parameter.-We-can-do-so-by-(unsurprisingly)-taking-the-partial-derivative-w/-respect-to-each-parameter,-set-it-equal-to-0,-and-solve-the-equation.-Reference:-http://web.engr.oregonstate.edu/~xfern/classes/cs534/notes/LDA.pdf-1.0.3\"><span class=\"toc-item-num\">1.0.3&nbsp;&nbsp;</span>So maximizing this w/ respect to each parameter gives us the maximum likelihood estimates for that parameter. We can do so by (unsurprisingly) taking the partial derivative w/ respect to each parameter, set it equal to 0, and solve the equation. Reference: <a href=\"http://web.engr.oregonstate.edu/~xfern/classes/cs534/notes/LDA.pdf\" target=\"_blank\">http://web.engr.oregonstate.edu/~xfern/classes/cs534/notes/LDA.pdf</a></a></span></li><li><span><a href=\"#Using-these-parameter-estimates,-we-can-model-$p(y\\mid-x)$,-the-posterior-distribution,-using-Bayes's-rule:\" data-toc-modified-id=\"Using-these-parameter-estimates,-we-can-model-$p(y\\mid-x)$,-the-posterior-distribution,-using-Bayes's-rule:-1.0.4\"><span class=\"toc-item-num\">1.0.4&nbsp;&nbsp;</span>Using these parameter estimates, we can model $p(y\\mid x)$, the posterior distribution, using Bayes's rule:</a></span></li><li><span><a href=\"#Since-are-classification-strategy-will-involve-choosing-the-class-that-is-most-probable,-we-do-not-need-to-calculate-the-denominator-of-Bayes's-rule-because-it-is-independent-of-y\" data-toc-modified-id=\"Since-are-classification-strategy-will-involve-choosing-the-class-that-is-most-probable,-we-do-not-need-to-calculate-the-denominator-of-Bayes's-rule-because-it-is-independent-of-y-1.0.5\"><span class=\"toc-item-num\">1.0.5&nbsp;&nbsp;</span>Since are classification strategy will involve choosing the class that is most probable, we do not need to calculate the denominator of Bayes's rule because it is independent of y</a></span></li><li><span><a href=\"#However-it-is-good-to-know-that-the-denominator-is-given-by:\" data-toc-modified-id=\"However-it-is-good-to-know-that-the-denominator-is-given-by:-1.0.6\"><span class=\"toc-item-num\">1.0.6&nbsp;&nbsp;</span>However it is good to know that the denominator is given by:</a></span></li><li><span><a href=\"#Finally,-the-other-(actually-imporant)-quantities-in-Bayes's-rule-are-given-by-our-model-(i.e.-we-assumed-X-is-distributed-Gaussian-and-Y-is-Bernoulli)\" data-toc-modified-id=\"Finally,-the-other-(actually-imporant)-quantities-in-Bayes's-rule-are-given-by-our-model-(i.e.-we-assumed-X-is-distributed-Gaussian-and-Y-is-Bernoulli)-1.0.7\"><span class=\"toc-item-num\">1.0.7&nbsp;&nbsp;</span>Finally, the other (actually imporant) quantities in Bayes's rule are given by our model (i.e. we assumed X is distributed Gaussian and Y is Bernoulli)</a></span></li><li><span><a href=\"#So-let's-implement-this-:)\" data-toc-modified-id=\"So-let's-implement-this-:)-1.0.8\"><span class=\"toc-item-num\">1.0.8&nbsp;&nbsp;</span>So let's implement this :)</a></span></li><li><span><a href=\"#Maximum-likelihood-estimates-for-each-parameter:\" data-toc-modified-id=\"Maximum-likelihood-estimates-for-each-parameter:-1.0.9\"><span class=\"toc-item-num\">1.0.9&nbsp;&nbsp;</span>Maximum likelihood estimates for each parameter:</a></span></li><li><span><a href=\"#Checking-that-we-got-all-the-parameters-correct\" data-toc-modified-id=\"Checking-that-we-got-all-the-parameters-correct-1.0.10\"><span class=\"toc-item-num\">1.0.10&nbsp;&nbsp;</span>Checking that we got all the parameters correct</a></span></li><li><span><a href=\"#Although-the-covariance-matrices-are-supposedly-different-(I-say-supposedly-different-b/c-upon-visual-inspection-there-is-no-noticeable-difference).-I-also-get-the-same-predictions-as-scikit-learn\" data-toc-modified-id=\"Although-the-covariance-matrices-are-supposedly-different-(I-say-supposedly-different-b/c-upon-visual-inspection-there-is-no-noticeable-difference).-I-also-get-the-same-predictions-as-scikit-learn-1.0.11\"><span class=\"toc-item-num\">1.0.11&nbsp;&nbsp;</span>Although the covariance matrices are supposedly different (I say supposedly different b/c upon visual inspection there is no noticeable difference). I also get the same predictions as scikit-learn</a></span></li><li><span><a href=\"#Let's-plot-the-decision-boundary-between-the-classes-for-both-scikit-learn-and-from-scratch-LDA\" data-toc-modified-id=\"Let's-plot-the-decision-boundary-between-the-classes-for-both-scikit-learn-and-from-scratch-LDA-1.0.12\"><span class=\"toc-item-num\">1.0.12&nbsp;&nbsp;</span>Let's plot the decision boundary between the classes for both scikit-learn and from scratch LDA</a></span></li></ul></li></ul></li></ul></div>"
   ]
  },
  {
   "cell_type": "markdown",
   "metadata": {},
   "source": [
    "### The model:\n",
    "\n",
    "$$ y \\sim Bernoulli(\\phi)$$\n",
    "$$ x \\mid y = 0 \\sim \\mathcal{N}(\\mu_0, \\Sigma)$$\n",
    "$$ x \\mid y = 1 \\sim \\mathcal{N}(\\mu_1, \\Sigma)$$\n",
    "<br>\n",
    "Notice that each Gaussian has the same covariance matrix $\\Sigma$. This is an additional simplifying homoscedasticity assumption of GDA (which is the same as LDA). This differs from Quadratic Discriminant Analysis which does not use this assumptions, implying that there is different covariance matrices for each Gaussian. See https://en.wikipedia.org/wiki/Linear_discriminant_analysis#LDA_for_two_classes"
   ]
  },
  {
   "cell_type": "markdown",
   "metadata": {},
   "source": [
    "### Log-likelihood of the data (b/c X is assumed iid):\n",
    "\n",
    "$$ \\mathcal{L}(\\phi, \\mu_0, \\mu_1, \\Sigma) = \\log\\prod_{i=1}^m p(x^{(i)} \\mid y^{(i)}; \\mu_0, \\mu_1, \\Sigma)p(y^{(i)};\\phi) $$"
   ]
  },
  {
   "cell_type": "markdown",
   "metadata": {},
   "source": [
    "### So maximizing this w/ respect to each parameter gives us the maximum likelihood estimates for that parameter. We can do so by (unsurprisingly) taking the partial derivative w/ respect to each parameter, set it equal to 0, and solve the equation. Reference: http://web.engr.oregonstate.edu/~xfern/classes/cs534/notes/LDA.pdf"
   ]
  },
  {
   "cell_type": "markdown",
   "metadata": {},
   "source": [
    "### Using these parameter estimates, we can model $p(y\\mid x)$, the posterior distribution, using Bayes's rule:\n",
    "\n",
    "$$ p(y \\mid x) = \\frac{p(x \\mid y)p(y)}{p(x)} $$"
   ]
  },
  {
   "cell_type": "markdown",
   "metadata": {},
   "source": [
    "### Since are classification strategy will involve choosing the class that is most probable, we do not need to calculate the denominator of Bayes's rule because it is independent of y\n",
    "$$\n",
    "\\begin{align*}\n",
    "  \\underset{y}{\\mathrm{argmax}}p(y \\mid x) &= \\underset{y}{\\mathrm{argmax}} \\frac{p(x \\mid y) p(y)}{p(x)} \\\\\n",
    " &= \\underset{y}{\\mathrm{argmax}}p(x \\mid y)p(y)\n",
    "\\end{align*}\n",
    "$$\n",
    "\n",
    "### However it is good to know that the denominator is given by:\n",
    "\n",
    "$$ p(x) = \\sum_{k=1}^{C} p(x \\mid y = k)p(y = k) $$\n",
    ", where $C$ is the number of classes. The quantities in the summation are given by our model. "
   ]
  },
  {
   "cell_type": "markdown",
   "metadata": {},
   "source": [
    "### Finally, the other (actually imporant) quantities in Bayes's rule are given by our model (i.e. we assumed X is distributed Gaussian and Y is Bernoulli)\n",
    "\n",
    "$$ p(y) = \\phi^y(1 - \\phi)^{(1-y)} $$\n",
    "<br>\n",
    "$$ p(x \\mid y = k) = \\dfrac{1}{(2\\pi)^{n/2} \\mid \\Sigma \\mid^{1/2}} \\exp\\Big(-\\frac12 (x-\\mu_k)^T \\Sigma^{-1}(x -\n",
    "\\mu_k)\\Big)$$\n",
    "<br>\n",
    "Note that $k \\in \\{0,1\\} $ because $Y$ is a binary variable in our specific problem."
   ]
  },
  {
   "cell_type": "markdown",
   "metadata": {},
   "source": [
    "### So let's implement this :)"
   ]
  },
  {
   "cell_type": "markdown",
   "metadata": {},
   "source": [
    "### Maximum likelihood estimates for each parameter:\n",
    "\n",
    "$$ \\phi = \\frac{1}{m} \\sum_{i=1}^m 1\\{y^{(i)} = 1\\} $$\n",
    "This is just the fraction of positive class examples (for example, the number of emails that are spam).\n",
    "$$ \\mu_0 = \\frac{\\sum_{i=1}^m 1\\{y^{(i)} = 0\\}x^{(i)}}{\\sum_{i=1}^m 1\\{y^{(i)} = 0\\}} $$ \n",
    "<br>\n",
    "$$ \\mu_1 = \\frac{\\sum_{i=1}^m 1\\{y^{(i)} = 1\\}x^{(i)}}{\\sum_{i=1}^m 1\\{y^{(i)} = 1\\}} $$ \n",
    "or more generally,\n",
    "$$ \\mu_k = \\frac{\\sum_{i=1}^m 1\\{y^{(i)} = k\\}x^{(i)}}{\\sum_{i=1}^m 1\\{y^{(i)} = k\\}} $$ \n",
    ", for non-binary classification problems. Essentially, each of these formulas are saying to sum each example $x^{(i)}$ (which may be a vector) with class $y^{(i)} = k$ and average it over all examples with $y^{(i)} = k$.\n",
    "$$ \\Sigma = \\frac{1}{m} \\sum_{i=1}^m (x^{(i)} - \\mu_{y^{(i)}})(x^{(i)} - \\mu_{y^{(i)}})^{T}$$ \n",
    "This is the covariance matrix for the multivariate gaussian, which is a generalization of the variance of a real-valued random variable."
   ]
  },
  {
   "cell_type": "code",
   "execution_count": 1,
   "metadata": {},
   "outputs": [],
   "source": [
    "import sklearn as sk, sklearn.model_selection\n",
    "import pandas as pd\n",
    "import numpy as np\n",
    "import seaborn as sns\n",
    "import matplotlib.pyplot as plt\n",
    "\n",
    "diabetes = pd.read_csv('diabetes.csv')\n",
    "Y = diabetes['Outcome']\n",
    "X = diabetes[['BloodPressure', 'Glucose']]#diabetes.drop(['Outcome'], axis=1)\n",
    "X_train, X_test, y_train, y_test = sk.model_selection.train_test_split(X, Y, \n",
    "                                    test_size=0.33, \n",
    "                                    random_state=42)"
   ]
  },
  {
   "cell_type": "code",
   "execution_count": 2,
   "metadata": {
    "code_folding": [
     2,
     34,
     125
    ],
    "run_control": {
     "marked": false
    },
    "scrolled": false
   },
   "outputs": [],
   "source": [
    "class LDA():\n",
    "    \n",
    "    def __init(self):\n",
    "        pass\n",
    "    \n",
    "    def fit(self, X_train, y_train):\n",
    "        '''\n",
    "            Fits a Gaussian to each class in y_train using the training data\n",
    "            X_train: array-like, shape = (n_examples, n_features)\n",
    "            y_train: array-like, shape = (n_examples, ), training labels \n",
    "        '''\n",
    "        if isinstance(X_train, pd.DataFrame):\n",
    "            X_train = X_train.values\n",
    "        elif isinstance(X_train, list):\n",
    "            X_train = np.array(X_train)\n",
    "            \n",
    "        if isinstance(y_train, pd.Series):\n",
    "            y_train = y_train.values\n",
    "        elif isinstance(y_train, list):\n",
    "            y_train = np.array(y_train)\n",
    "\n",
    "        # Computes the priors of the posterior distribution\n",
    "        self.phi = self._compute_phi(y_train)\n",
    "        # Computes the means of the gaussians fit to each classes data\n",
    "        self.mu = self._compute_mu(X_train, y_train)\n",
    "        # Computes the shared covariance matrix fit to each classes data\n",
    "        self.covariance = self._compute_covariance(X_train, y_train)\n",
    "        self.classes = np.unique(y_train)\n",
    "        return self\n",
    "        \n",
    "    def predict_bayes(self, X_test):\n",
    "        '''\n",
    "            Predicts the class that each example of X_test belongs to \n",
    "            X_test: array-like, shape = (n_examples, n_features)\n",
    "        '''\n",
    "        if isinstance(X_test, pd.DataFrame):\n",
    "            X_test = X_test.values\n",
    "        X_test = np.atleast_2d(X_test)\n",
    "        \n",
    "        # Compute argmax{c_k} p(x | c_k) * p(c_k) / [sum(p(x | c_k) * p(c_k)) over classes]\n",
    "        predictions = []\n",
    "        for c in self.classes:\n",
    "            Xp = self.compute_bayes(c, X_test)\n",
    "            predictions.append(Xp)\n",
    "        \n",
    "        max_class_indices = np.argmax(np.array(predictions).T, axis=1)\n",
    "        # map indices back to the classes \n",
    "        return np.array([self.classes[i] for i in max_class_indices])\n",
    "        \n",
    "            \n",
    "    def compute_bayes(self, c, X):\n",
    "        '''\n",
    "            Computes the numerator of Bayes's rule\n",
    "            c: the class to compute the conditional probability density with\n",
    "            X: the set of instances to classify, array-like, shape = (n_examples, n_features)\n",
    "        '''\n",
    "        # No need to compute denominator b/c it is not dependent on the class\n",
    "        return self._class_conditional_p(c, X) * self.phi[c]\n",
    "    \n",
    "    def predict_proba(self, X_test):\n",
    "        '''\n",
    "            Computes the probability of each example of the in X_test\n",
    "            of belonging to each class \n",
    "            X_test: array-like, shape = (n_examples, n_features)\n",
    "        '''\n",
    "        if isinstance(X_test, pd.DataFrame):\n",
    "            X_test = X_test.values\n",
    "        X_test = np.atleast_2d(X_test)\n",
    "        \n",
    "        # Compute argmax{c_k} p(x | c_k) * p(c_k) / [sum(p(x | c_k) * p(c_k)) over classes]\n",
    "        predictions = []\n",
    "        norm = self._compute_normalization(X_test)\n",
    "        for c in self.classes:\n",
    "            Xp = self.compute_bayes(c, X_test) / norm\n",
    "            predictions.append(Xp)\n",
    "        \n",
    "        return np.array(predictions).T\n",
    "    \n",
    "    def _compute_normalization(self, X):\n",
    "        '''\n",
    "            Computes the normalization factor in denominator of Bayes's rule\n",
    "            X: array-like, shape = (n_examples, n_features)\n",
    "        '''\n",
    "        return np.sum([self.compute_bayes(c, X) for c in self.classes], axis=0)\n",
    "    \n",
    "    # This is the left term in the numerator of Bayes's rule \n",
    "    # i.e. the likelihood of the data\n",
    "    def _class_conditional_p(self, c_k, X):\n",
    "        '''\n",
    "            Computes the class conditional probability p(x | c_k)\n",
    "            i.e. the mulitvariate gaussian equation with shared covariance\n",
    "            matrix and mu_k\n",
    "            c_k: the class to compute the probability from\n",
    "            X: list of instances to compute the likelihood \n",
    "        '''\n",
    "        # constant term of gaussian density\n",
    "        # the dimension of the gaussians\n",
    "        d = len(self.covariance)\n",
    "        pi_constant = (2 * np.pi) ** (1/d)\n",
    "        covariance_constant = \\\n",
    "            np.linalg.det(self.covariance) ** (0.5)            \n",
    "        constant =  1.0 / pi_constant * covariance_constant\n",
    "        \n",
    "        # upper part of exponent \n",
    "        left = -0.5 * (X - self.mu[c_k]).T\n",
    "        middle = np.linalg.inv(self.covariance)\n",
    "        right = (X - self.mu[c_k])   \n",
    "        \n",
    "        preds = []\n",
    "        for i in range(len(X)):\n",
    "            preds.append(left[:, i].dot(middle).dot(right[i, :]))\n",
    "            \n",
    "        exponent = np.exp(preds) # shape = (n_examples, ) \n",
    "        \n",
    "        return constant * exponent\n",
    "    \n",
    "    def print_params(self):\n",
    "        #if self.phi == None or self.covariance  == None or self.mu == None:\n",
    "            #raise ValueError('You must fit the model first')\n",
    "        print('phi', self.phi)\n",
    "        print('mu', self.mu)\n",
    "        print('covariance matrix', self.covariance)\n",
    "    \n",
    "    def _compute_mu(self, X_train, y_train):\n",
    "        '''\n",
    "        Computes the average feature vector for every class\n",
    "        X_train: \n",
    "            2d np array where rows are examples and columns are features,\n",
    "            all of which should be quantitative\n",
    "        y_train: \n",
    "            1d np array representing labels in [0, 1]\n",
    "        '''\n",
    "        classes = np.unique(y_train)\n",
    "        mu = {}\n",
    "        for c in classes:\n",
    "            mu[c] = (y_train == c).dot(X_train) / np.sum(y_train == c)\n",
    "        return mu\n",
    "    \n",
    "    def _compute_phi(self, y_train):\n",
    "        '''\n",
    "        Computes the proportion of \"success\" valued examples\n",
    "        y_train: \n",
    "            1d np array representing labels in [0, 1]\n",
    "        '''\n",
    "        num_examples = len(y_train)\n",
    "        classes = np.unique(y_train)\n",
    "        phi = {}\n",
    "        for j in classes:\n",
    "            phi[j] = (np.sum(y_train == j) / num_examples)\n",
    "        return phi\n",
    "    \n",
    "    def _compute_covariance(self, X_train, y_train):\n",
    "        '''\n",
    "        Computes the shared covariance matrix of the Gaussians fit to the data\n",
    "        i.e. it computes the pooled within-class covariance matrix used for each Gaussian\n",
    "        X_train: \n",
    "            2d np array where rows are examples and columns are features,\n",
    "            all of which should be quantitative\n",
    "        y_train: \n",
    "            1d np array representing labels in [0, 1]\n",
    "        '''\n",
    "        num_examples = len(y_train)\n",
    "        classes = np.unique(y_train)\n",
    "        covs = []\n",
    "        for group in classes:\n",
    "            Xg = X_train[y_train == group, :]\n",
    "            from sklearn import covariance\n",
    "            covs.append(np.atleast_2d(self._cov(Xg)))\n",
    "        return np.average(covs, axis=0, weights=list(self.phi.values()))\n",
    "    \n",
    "    def _cov(self, X):\n",
    "        '''\n",
    "            Computes the covariance matrix of X, used to compute \n",
    "            covariance of instances in a class\n",
    "            X: array-like, shape = (n_samples, n_features)\n",
    "            Returns:\n",
    "                Covariance matrix of X, shape = (n_features, n_features)\n",
    "        '''\n",
    "        n_samples = X.shape[0]\n",
    "        X = X.T\n",
    "        avg = np.average(X, axis=1)\n",
    "        X = X.astype(np.float64)\n",
    "        X -= avg[:, np.newaxis]\n",
    "        return np.dot(X, X.T) / np.float64(n_samples)"
   ]
  },
  {
   "cell_type": "markdown",
   "metadata": {},
   "source": [
    "### Checking that we got all the parameters correct"
   ]
  },
  {
   "cell_type": "code",
   "execution_count": 3,
   "metadata": {},
   "outputs": [
    {
     "name": "stdout",
     "output_type": "stream",
     "text": [
      "Means estimated correctly: True\n",
      "Priors estimated correctly: True\n",
      "Covariance matrix estimated correctly: False\n"
     ]
    }
   ],
   "source": [
    "from sklearn.discriminant_analysis import LinearDiscriminantAnalysis\n",
    "sklearn_lda = LinearDiscriminantAnalysis(store_covariance=True)\n",
    "sklearn_lda.fit(X_train, y_train)\n",
    "\n",
    "from_scratch_lda = LDA()\n",
    "from_scratch_lda.fit(X_train,y_train)\n",
    "\n",
    "print('Means estimated correctly:', np.array_equal(list(from_scratch_lda.mu.values()), \n",
    "                                                   sklearn_lda.means_))\n",
    "print('Priors estimated correctly:', np.array_equal(list(from_scratch_lda.phi.values()), \n",
    "                                                    sklearn_lda.priors_))\n",
    "print('Covariance matrix estimated correctly:', np.array_equal(from_scratch_lda.covariance, \n",
    "                                                               sklearn_lda.covariance_))"
   ]
  },
  {
   "cell_type": "markdown",
   "metadata": {},
   "source": [
    "### Although the covariance matrices are supposedly different (I say supposedly different b/c upon visual inspection there is no noticeable difference). I also get the same predictions as scikit-learn"
   ]
  },
  {
   "cell_type": "code",
   "execution_count": 4,
   "metadata": {
    "code_folding": []
   },
   "outputs": [
    {
     "name": "stdout",
     "output_type": "stream",
     "text": [
      "scikit-learn lda accuracy 0.7362204724409449\n",
      "from scratch lda accuracy 0.7362204724409449\n"
     ]
    }
   ],
   "source": [
    "from sklearn.metrics import accuracy_score\n",
    "\n",
    "sklearn_predictions = sklearn_lda.predict(X_test)\n",
    "from_scratch_predictions = from_scratch_lda.predict_bayes(X_test)\n",
    "print('scikit-learn lda accuracy', accuracy_score(y_test, sklearn_predictions))\n",
    "print('from scratch lda accuracy', accuracy_score(y_test, from_scratch_predictions))"
   ]
  },
  {
   "cell_type": "markdown",
   "metadata": {},
   "source": [
    "### Let's plot the decision boundary between the classes for both scikit-learn and from scratch LDA"
   ]
  },
  {
   "cell_type": "code",
   "execution_count": 8,
   "metadata": {
    "code_folding": [
     6
    ],
    "run_control": {
     "marked": false
    }
   },
   "outputs": [],
   "source": [
    "from scipy import linalg\n",
    "import numpy as np\n",
    "import matplotlib as mpl\n",
    "from matplotlib import colors\n",
    "\n",
    "# Colormap\n",
    "cmap = colors.LinearSegmentedColormap(\n",
    "    'red_blue_classes',\n",
    "    {'red': [(0, 1, 1), (1, 0.7, 0.7)],\n",
    "     'green': [(0, 0.7, 0.7), (1, 0.7, 0.7)],\n",
    "     'blue': [(0, 0.7, 0.7), (1, 1, 1)]})\n",
    "plt.cm.register_cmap(cmap=cmap)\n",
    "\n",
    "# Plot functions\n",
    "# The means from the LDA model\n",
    "def plot_data(lda, means, X, y, y_pred, fig_index):\n",
    "    splot = plt.subplot(2, 2, fig_index)\n",
    "    if fig_index == 1:\n",
    "        plt.title('Linear Discriminant Analysis')\n",
    "        plt.ylabel('Data with\\n fixed covariance')\n",
    "    elif fig_index == 2:\n",
    "        plt.title('Quadratic Discriminant Analysis')\n",
    "    elif fig_index == 3:\n",
    "        plt.ylabel('Data with\\n varying covariances')\n",
    "\n",
    "    # Gives array w/ True = correct classification\n",
    "    tp = (y == y_pred)  # True Positive\n",
    "    tp0, tp1 = tp[y == 0], tp[y == 1]\n",
    "    X0, X1 = X[y == 0], X[y == 1]\n",
    "    X0_tp, X0_fp = X0[tp0], X0[~tp0]\n",
    "    X1_tp, X1_fp = X1[tp1], X1[~tp1]\n",
    "\n",
    "    alpha = 0.5\n",
    "\n",
    "    # class 0: dots\n",
    "    plt.plot(X0_tp[:, 0], X0_tp[:, 1], 'o', alpha=alpha,\n",
    "             color='red', markeredgecolor='k')\n",
    "    plt.plot(X0_fp[:, 0], X0_fp[:, 1], '*', alpha=alpha,\n",
    "             color='#990000', markeredgecolor='k')  # dark red\n",
    "\n",
    "    # class 1: dots\n",
    "    plt.plot(X1_tp[:, 0], X1_tp[:, 1], 'o', alpha=alpha,\n",
    "             color='blue', markeredgecolor='k')\n",
    "    plt.plot(X1_fp[:, 0], X1_fp[:, 1], '*', alpha=alpha,\n",
    "             color='#000099', markeredgecolor='k')  # dark blue\n",
    "\n",
    "    # class 0 and 1 : areas\n",
    "    # We want to make predictions at every point in the plane \n",
    "    # so as to color the decision regions\n",
    "    nx, ny = 200, 100\n",
    "    x_min, x_max = plt.xlim()\n",
    "    y_min, y_max = plt.ylim()\n",
    "    # a grid of each point in the plane (obvs not technically, there are infinite # of points)\n",
    "    xx, yy = np.meshgrid(np.linspace(x_min, x_max, nx),\n",
    "                         np.linspace(y_min, y_max, ny))\n",
    "    # make a prediction for each point in the plane\n",
    "    Z = lda.predict_proba(np.c_[xx.ravel(), yy.ravel()])\n",
    "    Z = Z[:, 1].reshape(xx.shape)\n",
    "    # xx, yy represent the points to plot the color at\n",
    "    # Z is mapped onto the color palette, norm causes color mapping\n",
    "    # in the range specified \n",
    "    plt.pcolormesh(xx, yy, Z, cmap='red_blue_classes',\n",
    "                   norm=colors.Normalize(0., 1.))\n",
    "    \n",
    "    # Plot a contour of Z at xx, yy at the .5 level\n",
    "    # See: https://matplotlib.org/api/_as_gen/matplotlib.pyplot.contour.html\n",
    "    CS = plt.contour(xx, yy, Z, [.5], linewidths=1., colors='k')\n",
    "    plt.clabel(CS, fontsize=10)\n",
    "\n",
    "    # means: the mean of each feature value for each Gaussian\n",
    "    # first gaussian: mean of 0th and 1th feature\n",
    "    plt.plot(means[0][0], means[0][1],\n",
    "             'o', color='black', markersize=10, markeredgecolor='k')\n",
    "    # second gaussian: mean of 0th and 1th feature\n",
    "    plt.plot(means[1][0], means[1][1],\n",
    "             'o', color='black', markersize=10, markeredgecolor='k')\n",
    "\n",
    "    return splot\n",
    "\n",
    "# Plots the covariance ellipses \n",
    "def plot_ellipse(splot, mean, cov, color):\n",
    "    v, w = linalg.eigh(cov)\n",
    "    u = w[0] / linalg.norm(w[0])\n",
    "    angle = np.arctan(u[1] / u[0])\n",
    "    angle = 180 * angle / np.pi  # convert to degrees\n",
    "    # filled Gaussian at 2 standard deviation\n",
    "    ell = mpl.patches.Ellipse(mean, 2 * v[0] ** 0.5, 2 * v[1] ** 0.5,\n",
    "                              180 + angle, facecolor=color,\n",
    "                              edgecolor='yellow',\n",
    "                              linewidth=2, zorder=2)\n",
    "    ell.set_clip_box(splot.bbox)\n",
    "    ell.set_alpha(0.5)\n",
    "    splot.add_artist(ell)\n",
    "    splot.set_xticks(())\n",
    "    splot.set_yticks(())\n",
    "\n",
    "# The means and covariance from the model \n",
    "def plot_lda_cov(means, covariance, splot):\n",
    "    plot_ellipse(splot, means[0], covariance, 'red')\n",
    "    plot_ellipse(splot, means[1], covariance, 'blue')"
   ]
  },
  {
   "cell_type": "code",
   "execution_count": 9,
   "metadata": {},
   "outputs": [
    {
     "data": {
      "image/png": "[encoded data removed]",
      "text/plain": [
       "<matplotlib.figure.Figure at 0x7fe503be9898>"
      ]
     },
     "metadata": {},
     "output_type": "display_data"
    }
   ],
   "source": [
    "# Linear Discriminant Analysis via Sklearn\n",
    "lda = LinearDiscriminantAnalysis(solver=\"svd\", store_covariance=True)\n",
    "y_pred = lda.fit(X_train, y_train).predict(X_train)\n",
    "splot = plot_data(lda, lda.means_, X_train.values, y_train.values, y_pred, fig_index=1)\n",
    "plot_lda_cov(lda.means_, lda.covariance_, splot)\n",
    "plt.axis('tight')\n",
    "plt.show()"
   ]
  },
  {
   "cell_type": "code",
   "execution_count": 10,
   "metadata": {},
   "outputs": [
    {
     "data": {
      "image/png": "[encoded data removed]",
      "text/plain": [
       "<matplotlib.figure.Figure at 0x7fe4eeb761d0>"
      ]
     },
     "metadata": {},
     "output_type": "display_data"
    }
   ],
   "source": [
    "# Linear Discriminant Analysis from scratch\n",
    "lda_from_scratch = LDA()\n",
    "y_pred = lda_from_scratch.fit(X_train, y_train).predict_bayes(X_train)\n",
    "splot = plot_data(lda_from_scratch, lda_from_scratch.mu, X_train.values, y_train.values, y_pred, fig_index=1)\n",
    "plot_lda_cov(lda_from_scratch.mu, lda_from_scratch.covariance, splot)\n",
    "plt.axis('tight')\n",
    "plt.show()"
   ]
  },
  {
   "cell_type": "code",
   "execution_count": null,
   "metadata": {},
   "outputs": [],
   "source": []
  }
 ],
 "metadata": {
  "kernelspec": {
   "display_name": "Python 3",
   "language": "python",
   "name": "python3"
  },
  "language_info": {
   "codemirror_mode": {
    "name": "ipython",
    "version": 3
   },
   "file_extension": ".py",
   "mimetype": "text/x-python",
   "name": "python",
   "nbconvert_exporter": "python",
   "pygments_lexer": "ipython3",
   "version": "3.5.2"
  },
  "toc": {
   "nav_menu": {},
   "number_sections": true,
   "sideBar": false,
   "skip_h1_title": false,
   "toc_cell": true,
   "toc_position": {},
   "toc_section_display": "block",
   "toc_window_display": false
  }
 },
 "nbformat": 4,
 "nbformat_minor": 2
}
