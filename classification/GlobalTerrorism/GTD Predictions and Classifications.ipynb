{
 "cells": [
  {
   "cell_type": "markdown",
   "metadata": {},
   "source": [
    "## Potential predictions/classifications to make:\n",
    "- Predicting if a instance of terrorism is doubted as terrorism proper (doubterr)\n",
    "- Predicting # of terrorists in an attack (nperps) or # of terrorists captured (nperpcap)\n",
    "- Classifying an attack as successful or not (success)\n",
    "- Predict the group that carried out the attack"
   ]
  },
  {
   "cell_type": "code",
   "execution_count": 1,
   "metadata": {
    "code_folding": []
   },
   "outputs": [],
   "source": [
    "import matplotlib\n",
    "import matplotlib.pyplot as plt\n",
    "import seaborn as sns\n",
    "import numpy as np\n",
    "import pandas as pd\n",
    "import sys \n",
    "import os\n",
    "from scipy import stats\n",
    "from scipy.stats import norm\n",
    "plt.style.use('ggplot')\n",
    "sys.path.append(os.path.abspath(\"../../shared\"))\n",
    "from sklearn.preprocessing import LabelEncoder\n",
    "from sklearn.ensemble import RandomForestClassifier\n",
    "from sklearn import metrics\n",
    "from sklearn.model_selection import train_test_split, cross_val_score\n",
    "import feature_selection, helpers, eda, preprocessing, metric_eval\n",
    "%matplotlib inline\n",
    "import warnings\n",
    "warnings.filterwarnings('ignore')"
   ]
  },
  {
   "cell_type": "code",
   "execution_count": 2,
   "metadata": {},
   "outputs": [],
   "source": [
    "data = pd.read_csv('gtd.csv', encoding='ISO-8859-1')"
   ]
  },
  {
   "cell_type": "markdown",
   "metadata": {},
   "source": [
    "### Baseline model for success response variable\n",
    "Models to try will include SVM, Decision Tree, Random Forest, Logistic Regression (for binary classification tasks), and possibly perceptron\n",
    "<br>Baseline model used: RandomForestClassifier\n",
    "<br>Accuracy cv = 10 folds: 90-93% fitted to entire dataset"
   ]
  },
  {
   "cell_type": "markdown",
   "metadata": {},
   "source": [
    "#### Looks like the skewedness of the target variable might be causing the false value of the response variable to be \"washed out\" (see success_class_imbalance.png). We will apply the undersampling idea from the credit card fraud notebook"
   ]
  },
  {
   "cell_type": "code",
   "execution_count": 3,
   "metadata": {},
   "outputs": [],
   "source": [
    "# Number of data points in the minority class\n",
    "dfs=data[data['success']==1]\n",
    "dff=data[data['success']==0]\n",
    "undersampled_data=pd.concat([dff, dfs.sample(len(dff))])"
   ]
  },
  {
   "cell_type": "code",
   "execution_count": 4,
   "metadata": {},
   "outputs": [
    {
     "name": "stdout",
     "output_type": "stream",
     "text": [
      "Percentage of non successful attacks:  0.5\n",
      "Percentage of successful attacks:  0.5\n",
      "Total number of attacks in resampled data:  35298\n"
     ]
    }
   ],
   "source": [
    "# Showing ratio\n",
    "print(\"Percentage of non successful attacks: \", len(undersampled_data[undersampled_data.success == 0])/len(undersampled_data))\n",
    "print(\"Percentage of successful attacks: \", len(undersampled_data[undersampled_data.success == 1])/len(undersampled_data))\n",
    "print(\"Total number of attacks in resampled data: \", len(undersampled_data))"
   ]
  },
  {
   "cell_type": "markdown",
   "metadata": {},
   "source": [
    "#### Some notes on preprocessing\n",
    "- We will drop the columns which are missing >= 90% of the data\n",
    "- We will drop the observations where the latitude and longtitude is unknown (NA) (lat/lng is probably an important feature)\n",
    "- We will drop all the *_txt variables as they have number complements\n",
    "- Drop observations missing specificity\n",
    "- Drop columns such as motive and addnotes since they contain text (non-categorical) data. Later on I will try to use NLP to extract meaningful features from these columns"
   ]
  },
  {
   "cell_type": "code",
   "execution_count": 5,
   "metadata": {
    "code_folding": []
   },
   "outputs": [],
   "source": [
    "def preprocess(data, debug=False, no_label_encode=False):\n",
    "    missing = preprocessing.percent_missing(data)\n",
    "    data = data.drop(missing[missing['Percent'] >= .50].index, 1)\n",
    "\n",
    "    txt_cols = [c for c in data.columns if c.lower()[-3:] == 'txt']\n",
    "    data = data.drop(labels=txt_cols, axis=1)\n",
    "\n",
    "    free_text_cols = ['motive', 'addnotes', 'propcomment', 'summary']\n",
    "    citing_cols = ['scite1','scite2', 'scite3', 'dbsource']\n",
    "    not_sure_cols = ['related','location', 'weapdetail', 'corp1']\n",
    "    label_encode = ['provstate', 'related','location','weapdetail','corp1', 'city', 'gname', 'target1'] # <- Will need to learn feature extraction later for this\n",
    "\n",
    "    # Label encoding features\n",
    "    if not no_label_encode:\n",
    "        from sklearn.preprocessing import LabelEncoder\n",
    "        for f in label_encode:\n",
    "            if f in data.columns:\n",
    "                le = LabelEncoder()\n",
    "                data[f] = data[f].fillna('None')\n",
    "                data[f] = le.fit_transform(data[f])\n",
    "\n",
    "    citing_cols.extend(free_text_cols)\n",
    "    for col in citing_cols:\n",
    "        if col in data.columns:\n",
    "            data = data.drop(labels=col, axis=1)\n",
    "    \n",
    "    missing = preprocessing.percent_missing(data)\n",
    "    missing_cat_cols = ['ransom','claimed','weapsubtyp1',\n",
    "                        'targsubtype1','natlty1','guncertain1',\n",
    "                        'ishostkid','specificy','latitude','longitude']\n",
    "    for f in missing.index:\n",
    "        # If not a categorical variable, its numeric, so take median\n",
    "        if f not in missing_cat_cols:\n",
    "            data[f] = data[f].fillna(data[f].median())\n",
    "    \n",
    "    for f in missing_cat_cols:\n",
    "        if f in data.columns:\n",
    "            data[f] = data[f].fillna(data[f].max())\n",
    "    \n",
    "    if debug:\n",
    "        print(data.dtypes)\n",
    "    return data"
   ]
  },
  {
   "cell_type": "code",
   "execution_count": 6,
   "metadata": {},
   "outputs": [],
   "source": [
    "undersample_X = preprocess(undersampled_data)"
   ]
  },
  {
   "cell_type": "markdown",
   "metadata": {},
   "source": [
    "#### Preprocessing done, back to model selection"
   ]
  },
  {
   "cell_type": "code",
   "execution_count": 7,
   "metadata": {},
   "outputs": [],
   "source": [
    "from sklearn.metrics import accuracy_score, precision_score, recall_score, classification_report, confusion_matrix\n",
    "from sklearn.model_selection import cross_val_score, train_test_split, KFold\n",
    "from sklearn.linear_model import LogisticRegression, LinearRegression, Perceptron\n",
    "from sklearn.svm import LinearSVC, SVC\n",
    "from sklearn.tree import DecisionTreeClassifier\n",
    "from sklearn.ensemble import RandomForestClassifier\n",
    "from sklearn.dummy import DummyClassifier"
   ]
  },
  {
   "cell_type": "code",
   "execution_count": 8,
   "metadata": {},
   "outputs": [
    {
     "data": {
      "text/plain": [
       "(35298, 46)"
      ]
     },
     "execution_count": 8,
     "metadata": {},
     "output_type": "execute_result"
    }
   ],
   "source": [
    "undersample_y = undersample_X['success']\n",
    "undersample_X = undersample_X.drop(labels='success',axis=1)\n",
    "undersample_X.shape"
   ]
  },
  {
   "cell_type": "code",
   "execution_count": 9,
   "metadata": {},
   "outputs": [],
   "source": [
    "dummy = DummyClassifier(strategy='most_frequent')\n",
    "#cross_val_score(dummy, undersample_X, undersample_y, cv = 10)"
   ]
  },
  {
   "cell_type": "code",
   "execution_count": 10,
   "metadata": {},
   "outputs": [],
   "source": [
    "reg_model = RandomForestClassifier()\n",
    "#cross_val_score(reg_model, undersample_X, undersample_y, cv = 10).mean()"
   ]
  },
  {
   "cell_type": "markdown",
   "metadata": {},
   "source": [
    "### Improving the model"
   ]
  },
  {
   "cell_type": "code",
   "execution_count": 11,
   "metadata": {},
   "outputs": [],
   "source": [
    "#undersample_X.head()"
   ]
  },
  {
   "cell_type": "code",
   "execution_count": 12,
   "metadata": {},
   "outputs": [],
   "source": [
    "reg_model = RandomForestClassifier(criterion='entropy', min_samples_split=50)\n",
    "#np.array(cross_val_score(reg_model, undersample_X, undersample_y, cv = 10, n_jobs=-1)).mean()"
   ]
  },
  {
   "cell_type": "markdown",
   "metadata": {},
   "source": [
    "#### Find out how this version is doing via confusion matrix "
   ]
  },
  {
   "cell_type": "code",
   "execution_count": 13,
   "metadata": {},
   "outputs": [],
   "source": [
    "data_X = preprocess(data)\n",
    "\n",
    "data_y = data_X['success']\n",
    "data_X = data_X.drop('success',1)\n",
    "\n",
    "# Whole dataset\n",
    "data_X_train, data_X_test, data_y_train, data_y_test = train_test_split(data_X,data_y,\n",
    "                                                                        test_size = 0.2, shuffle=True)\n",
    "\n",
    "\n",
    "# Undersampled dataset \n",
    "undersample_X_train, undersample_X_test, undersample_y_train, undersample_y_test = \\\n",
    "                                                    train_test_split(undersample_X,\n",
    "                                                                     undersample_y,\n",
    "                                                                     test_size = 0.2, shuffle=True)"
   ]
  },
  {
   "cell_type": "code",
   "execution_count": 14,
   "metadata": {},
   "outputs": [
    {
     "name": "stdout",
     "output_type": "stream",
     "text": [
      "             precision    recall  f1-score   support\n",
      "\n",
      "          0       0.86      0.89      0.88      3456\n",
      "          1       0.89      0.87      0.88      3604\n",
      "\n",
      "avg / total       0.88      0.88      0.88      7060\n",
      "\n",
      "Accuracy score 88.0%\n"
     ]
    },
    {
     "data": {
      "image/png": "[encoded data removed]",
      "text/plain": [
       "<matplotlib.figure.Figure at 0x7f488bf62048>"
      ]
     },
     "metadata": {},
     "output_type": "display_data"
    }
   ],
   "source": [
    "undersample_rfc = RandomForestClassifier()\n",
    "undersample_rfc.fit(undersample_X_train, undersample_y_train)\n",
    "undersample_predictions = undersample_rfc.predict(undersample_X_test)\n",
    "metric_eval.classification_report(undersample_y_test, undersample_predictions\n",
    "                      , classes=['failed attack','success']\n",
    "                      , title='Full dataset confusion matrix');"
   ]
  },
  {
   "cell_type": "markdown",
   "metadata": {},
   "source": [
    "#### Try undersampled model on full data set"
   ]
  },
  {
   "cell_type": "code",
   "execution_count": 15,
   "metadata": {},
   "outputs": [
    {
     "name": "stdout",
     "output_type": "stream",
     "text": [
      "             precision    recall  f1-score   support\n",
      "\n",
      "          0       0.34      0.93      0.50      3546\n",
      "          1       0.99      0.79      0.88     30524\n",
      "\n",
      "avg / total       0.92      0.81      0.84     34070\n",
      "\n",
      "Accuracy score 81.0%\n"
     ]
    },
    {
     "data": {
      "image/png": "[encoded data removed]",
      "text/plain": [
       "<matplotlib.figure.Figure at 0x7f488bf35278>"
      ]
     },
     "metadata": {},
     "output_type": "display_data"
    }
   ],
   "source": [
    "data_predictions = undersample_rfc.predict(data_X_test)\n",
    "metric_eval.classification_report(data_y_test, data_predictions\n",
    "                      , classes=['failed attack','success']\n",
    "                      , title='Full dataset confusion matrix');"
   ]
  },
  {
   "cell_type": "code",
   "execution_count": 16,
   "metadata": {},
   "outputs": [],
   "source": [
    "#fr = feature_selection.FeatureRanker(data_X, data_y, classify=True)\n",
    "#fr.rank(by='RandomForest', plot=True);"
   ]
  },
  {
   "cell_type": "markdown",
   "metadata": {},
   "source": [
    "Apparently the number of people killed (makes sense) and whether or not property was damage are strong indicators of success"
   ]
  },
  {
   "cell_type": "code",
   "execution_count": 17,
   "metadata": {},
   "outputs": [
    {
     "data": {
      "image/png": "[encoded data removed]",
      "text/plain": [
       "<matplotlib.figure.Figure at 0x7f488bea5588>"
      ]
     },
     "metadata": {},
     "output_type": "display_data"
    }
   ],
   "source": [
    "f, (ax1, ax2, ax3) = plt.subplots(1,3,figsize=(15,8))\n",
    "#sns.stripplot(x='success', y='nkill',data=data, jitter=True, ax=ax1);\n",
    "#sns.countplot(data=data,x='property', hue='success', ax=ax2)\n",
    "#sns.countplot(data=data,x='attacktype1_txt', hue='success', ax=ax3)\n",
    "plt.xticks(rotation=90)\n",
    "plt.tight_layout()"
   ]
  },
  {
   "cell_type": "code",
   "execution_count": 18,
   "metadata": {},
   "outputs": [],
   "source": [
    "temp = data.copy()\n",
    "#sns.lmplot(x='nkill',y='nwound',data=temp, hue='success')\n",
    "h = temp.copy()\n",
    "h['nwound'] = np.sqrt(temp['nwound'])\n",
    "#sns.lmplot(x='nkill',y='nwound',data=h, hue='success')\n",
    "plt.show()"
   ]
  },
  {
   "cell_type": "markdown",
   "metadata": {},
   "source": [
    "#### Try a data transformation on nkill/nwound"
   ]
  },
  {
   "cell_type": "code",
   "execution_count": 19,
   "metadata": {},
   "outputs": [
    {
     "data": {
      "text/plain": [
       "Text(0.5,1,'After transformation')"
      ]
     },
     "execution_count": 19,
     "metadata": {},
     "output_type": "execute_result"
    },
    {
     "data": {
      "image/png": "[encoded data removed]",
      "text/plain": [
       "<matplotlib.figure.Figure at 0x7f488be65748>"
      ]
     },
     "metadata": {},
     "output_type": "display_data"
    }
   ],
   "source": [
    "try1 = undersampled_data.copy()\n",
    "try1 = preprocess(try1)\n",
    "f, (ax1,ax2) = plt.subplots(1,2, figsize=(15,4))\n",
    "plt.title('Original dataset')\n",
    "ax1.scatter(try1[try1['success']==1]['nwound'],try1[try1['success']==1]['nkill'], s=2.5);\n",
    "ax1.scatter(try1[try1['success']==0]['nwound'],try1[try1['success']==0]['nkill'], s=2.5);\n",
    "plt.title('Original dataset')\n",
    "\n",
    "def data_transform(try1):\n",
    "    not_succ_temp = try1[try1['success']==0]\n",
    "    #not_succ_temp['nwound'] = not_succ_temp['nwound']\n",
    "\n",
    "    succ_temp = try1[try1['success']==1]\n",
    "    succ_temp['nwound'] = succ_temp['nwound'] + 1\n",
    "\n",
    "    try1 = pd.concat([not_succ_temp,succ_temp])\n",
    "    #try1 = try1[(try1['nwound'] != 0)]\n",
    "    return try1\n",
    "\n",
    "try1 = data_transform(try1)\n",
    "\n",
    "plt.title('After transformation')\n",
    "#ax2.scatter(try1[try1['success']==1]['nwound'],try1[try1['success']==1]['nkill'], s=2.5);\n",
    "#ax2.scatter(try1[try1['success']==0]['nwound'],try1[try1['success']==0]['nkill'], s=2.5);"
   ]
  },
  {
   "cell_type": "code",
   "execution_count": 20,
   "metadata": {},
   "outputs": [],
   "source": [
    "try1 = preprocess(try1)\n",
    "undersample_y = try1['success']\n",
    "undersample_X = try1.drop('success',1)\n",
    "\n",
    "undersample_X_train, undersample_X_test, undersample_y_train, undersample_y_test = \\\n",
    "                                                    train_test_split(undersample_X,\n",
    "                                                                     undersample_y,\n",
    "                                                                     test_size = 0.2, shuffle=True)"
   ]
  },
  {
   "cell_type": "markdown",
   "metadata": {},
   "source": [
    "#### Test model from data transformation on undersampled data"
   ]
  },
  {
   "cell_type": "code",
   "execution_count": 21,
   "metadata": {},
   "outputs": [
    {
     "name": "stdout",
     "output_type": "stream",
     "text": [
      "             precision    recall  f1-score   support\n",
      "\n",
      "          0       0.99      0.96      0.97      3604\n",
      "          1       0.96      0.99      0.97      3456\n",
      "\n",
      "avg / total       0.97      0.97      0.97      7060\n",
      "\n",
      "Accuracy score 97.0%\n"
     ]
    },
    {
     "data": {
      "image/png": "[encoded data removed]",
      "text/plain": [
       "<matplotlib.figure.Figure at 0x7f488be4c4a8>"
      ]
     },
     "metadata": {},
     "output_type": "display_data"
    }
   ],
   "source": [
    "undersample_rfc = RandomForestClassifier(criterion='entropy', min_samples_split=50)\n",
    "undersample_rfc.fit(undersample_X_train, undersample_y_train)\n",
    "undersample_predictions = undersample_rfc.predict(undersample_X_test)\n",
    "metric_eval.classification_report(undersample_y_test, undersample_predictions\n",
    "                      , classes=['failed attack','success']\n",
    "                      , title='undersampled dataset confusion matrix');"
   ]
  },
  {
   "cell_type": "markdown",
   "metadata": {},
   "source": [
    "#### Test model on full data set with data transformation"
   ]
  },
  {
   "cell_type": "code",
   "execution_count": 22,
   "metadata": {},
   "outputs": [
    {
     "name": "stdout",
     "output_type": "stream",
     "text": [
      "             precision    recall  f1-score   support\n",
      "\n",
      "          0       0.89      0.95      0.92      3439\n",
      "          1       0.99      0.99      0.99     30631\n",
      "\n",
      "avg / total       0.98      0.98      0.98     34070\n",
      "\n",
      "Accuracy score 98.0%\n"
     ]
    },
    {
     "data": {
      "image/png": "[encoded data removed]",
      "text/plain": [
       "<matplotlib.figure.Figure at 0x7f488bf0bc50>"
      ]
     },
     "metadata": {},
     "output_type": "display_data"
    }
   ],
   "source": [
    "data_X = preprocess(data)\n",
    "data_X = data_transform(data_X)\n",
    "data_y = data_X['success']\n",
    "data_X = data_X.drop('success',1)\n",
    "\n",
    "# Whole dataset\n",
    "data_X_train, data_X_test, data_y_train, data_y_test = train_test_split(data_X,data_y,\n",
    "                                                                        test_size = 0.2, random_state=42)\n",
    "\n",
    "data_predictions = undersample_rfc.predict(data_X_test)\n",
    "metric_eval.classification_report(data_y_test, data_predictions\n",
    "                      , classes=['failed attack','success']\n",
    "                      , title='Full dataset confusion matrix');"
   ]
  },
  {
   "cell_type": "markdown",
   "metadata": {},
   "source": [
    "These results indicate that the primary reason for missclassification is that the model is easily confused\n",
    "by successful and unsuccessful attacks with nwound = 0\n",
    "<br>\n",
    "Also, at this point it is clear that the undersampled dataset is <strong>NOT</strong> better for training\n",
    "in this case"
   ]
  },
  {
   "cell_type": "markdown",
   "metadata": {},
   "source": [
    "## Predicting the terrorist group that carried out an attack"
   ]
  },
  {
   "cell_type": "markdown",
   "metadata": {},
   "source": [
    "### Establish baseline model"
   ]
  },
  {
   "cell_type": "code",
   "execution_count": 23,
   "metadata": {},
   "outputs": [],
   "source": [
    "from sklearn.ensemble import RandomForestClassifier\n",
    "rfc = RandomForestClassifier()\n",
    "data_known = data[data['gname'] != 'Unknown']\n",
    "data_processed= preprocess(data_known)\n",
    "data_y = data_processed['gname']\n",
    "data_X = data_processed.drop('gname',1)\n",
    "#cross_val_score(rfc, data_X, data_y, n_jobs=-1, cv=2)"
   ]
  },
  {
   "cell_type": "markdown",
   "metadata": {},
   "source": [
    "Terrible accuracy on whole dataset: 20-35%"
   ]
  },
  {
   "cell_type": "markdown",
   "metadata": {},
   "source": [
    "### Build model for top 10 groups + 5 randomly selected"
   ]
  },
  {
   "cell_type": "code",
   "execution_count": 178,
   "metadata": {},
   "outputs": [],
   "source": [
    "# Take the top 5 groups and 15 randomly sampled groups\n",
    "num_top_groups = 25\n",
    "groups = list(data_known.groupby('gname')['nkill'].sum().sort_values(ascending=False).head(num_top_groups).index)\n",
    "groups.extend(list(data_known.groupby('gname')['nkill'].sum()\\\n",
    "                   .sort_values(ascending=False)[num_top_groups:].sample(10).index))\n",
    "#test_groups = [g for g in data['gname'] if g not in groups]\n",
    "\n",
    "dfs = [data_known[data_known['gname'] == g] for g in groups]\n",
    "#op_ten_test = [data_known[data_known['gname'] == g] for g in test_groups]\n",
    "\n",
    "top_ten = pd.concat(dfs)"
   ]
  },
  {
   "cell_type": "markdown",
   "metadata": {},
   "source": [
    "### Build top twenty five groups model"
   ]
  },
  {
   "cell_type": "code",
   "execution_count": 179,
   "metadata": {},
   "outputs": [
    {
     "data": {
      "text/plain": [
       "65291"
      ]
     },
     "execution_count": 179,
     "metadata": {},
     "output_type": "execute_result"
    }
   ],
   "source": [
    "top_ten.shape[0]"
   ]
  },
  {
   "cell_type": "code",
   "execution_count": 149,
   "metadata": {},
   "outputs": [],
   "source": [
    "def gen_negated_test_set(other,data=data):\n",
    "    test_set = []\n",
    "    for idx, row in other.iterrows():\n",
    "        if row['eventid'] not in data['eventid'].values:\n",
    "            test_set.append(row)\n",
    "    return test_set"
   ]
  },
  {
   "cell_type": "code",
   "execution_count": 150,
   "metadata": {},
   "outputs": [
    {
     "data": {
      "text/plain": [
       "array([ 0.8704792 ,  0.99004074,  0.99025385,  0.99342254,  0.98819523,\n",
       "        0.99522727,  0.99294813,  0.99157751,  0.99248634,  0.98450672])"
      ]
     },
     "execution_count": 150,
     "metadata": {},
     "output_type": "execute_result"
    }
   ],
   "source": [
    "# base model for new dataset\n",
    "rfc = RandomForestClassifier()\n",
    "top_ten_processed = preprocess(top_ten)\n",
    "top_ten_y = top_ten_processed['gname']\n",
    "top_ten_X = top_ten_processed.drop('gname',1)\n",
    "cross_val_score(rfc,top_ten_X, top_ten_y,cv=10,n_jobs=-1,)"
   ]
  },
  {
   "cell_type": "markdown",
   "metadata": {},
   "source": [
    "This kind of performance probably has to do with locations of the terrorist groups being very distinct. Let's check that"
   ]
  },
  {
   "cell_type": "code",
   "execution_count": 151,
   "metadata": {},
   "outputs": [
    {
     "data": {
      "text/plain": [
       "RandomForestClassifier(bootstrap=True, class_weight=None, criterion='gini',\n",
       "            max_depth=None, max_features='auto', max_leaf_nodes=None,\n",
       "            min_impurity_decrease=0.0, min_impurity_split=None,\n",
       "            min_samples_leaf=1, min_samples_split=2,\n",
       "            min_weight_fraction_leaf=0.0, n_estimators=10, n_jobs=1,\n",
       "            oob_score=False, random_state=None, verbose=0,\n",
       "            warm_start=False)"
      ]
     },
     "execution_count": 151,
     "metadata": {},
     "output_type": "execute_result"
    }
   ],
   "source": [
    "top_ten_X_train, top_ten_X_test, top_ten_y_train, top_ten_y_test = \\\n",
    "                train_test_split(top_ten_X, top_ten_y, test_size=.2)\n",
    "rfc_top_twenty_five = RandomForestClassifier()\n",
    "rfc_top_twenty_five.fit(top_ten_X_train, top_ten_y_train)\n",
    "#eda.feature_importances(rfc,top_ten_X_train);"
   ]
  },
  {
   "cell_type": "markdown",
   "metadata": {},
   "source": [
    "Looks like the hypothesis was correct."
   ]
  },
  {
   "cell_type": "markdown",
   "metadata": {},
   "source": [
    "### Same concept for bottom 1000 groups"
   ]
  },
  {
   "cell_type": "code",
   "execution_count": 171,
   "metadata": {},
   "outputs": [],
   "source": [
    "num_bottom_groups = 1000\n",
    "groups = list(data_known.groupby('gname')['nkill'].sum().sort_values(ascending=True).head(num_top_groups).index)\n",
    "groups.extend(list(data_known.groupby('gname')['nkill'].sum()\\\n",
    "                   .sort_values(ascending=False)[:-num_bottom_groups].sample(10).index))"
   ]
  },
  {
   "cell_type": "code",
   "execution_count": 172,
   "metadata": {},
   "outputs": [],
   "source": [
    "dfs = [data_known[data_known['gname'] == g] for g in groups]\n",
    "#op_ten_test = [data_known[data_known['gname'] == g] for g in test_groups]\n",
    "\n",
    "bottom_thousand = pd.concat(dfs)"
   ]
  },
  {
   "cell_type": "code",
   "execution_count": 173,
   "metadata": {},
   "outputs": [
    {
     "data": {
      "text/plain": [
       "0.70695095271884001"
      ]
     },
     "execution_count": 173,
     "metadata": {},
     "output_type": "execute_result"
    }
   ],
   "source": [
    "# base model for new dataset\n",
    "rfc = RandomForestClassifier()\n",
    "bottom_thousand_preprocessed = preprocess(bottom_thousand)\n",
    "bottom_thousand_y = bottom_thousand_preprocessed['gname']\n",
    "bottom_thousand_X = bottom_thousand_preprocessed.drop('gname',1)\n",
    "cross_val_score(rfc,bottom_thousand_X, bottom_thousand_y,cv=10,n_jobs=-1).mean()"
   ]
  },
  {
   "cell_type": "markdown",
   "metadata": {},
   "source": [
    "This seems to prove that there is a problem because of the small number of instances per class. There is about \n",
    "3000 groups. There is nearly half of all instances concentrated in the top 100 groups. This means that for the \n",
    "rest of the groups, there is approximately 3.5 instances per group. I will need to"
   ]
  },
  {
   "cell_type": "code",
   "execution_count": null,
   "metadata": {},
   "outputs": [],
   "source": [
    "groups = list(data_known.groupby('gname')['nkill'].sum().sort_values(ascending=False).head(num_top_groups).index)\n",
    "groups.extend(list(data_known.groupby('gname')['nkill'].sum()\\\n",
    "                   .sort_values(ascending=False)[num_top_groups:].sample(10).index))\n",
    "\n",
    "dfs = [data_known[data_known['gname'] == g] for g in groups]\n",
    "top_ten = pd.concat(dfs)"
   ]
  }
 ],
 "metadata": {
  "kernelspec": {
   "display_name": "Python 3",
   "language": "python",
   "name": "python3"
  },
  "language_info": {
   "codemirror_mode": {
    "name": "ipython",
    "version": 3
   },
   "file_extension": ".py",
   "mimetype": "text/x-python",
   "name": "python",
   "nbconvert_exporter": "python",
   "pygments_lexer": "ipython3",
   "version": "3.5.2"
  },
  "toc": {
   "nav_menu": {},
   "number_sections": true,
   "sideBar": true,
   "skip_h1_title": false,
   "toc_cell": false,
   "toc_position": {
    "height": "577px",
    "left": "0px",
    "right": "1099px",
    "top": "101px",
    "width": "212px"
   },
   "toc_section_display": "block",
   "toc_window_display": true
  }
 },
 "nbformat": 4,
 "nbformat_minor": 2
}
