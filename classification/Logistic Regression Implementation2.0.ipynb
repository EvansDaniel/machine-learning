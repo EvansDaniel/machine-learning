{
 "cells": [
  {
   "cell_type": "code",
   "execution_count": 27,
   "metadata": {},
   "outputs": [],
   "source": [
    "import numpy as np \n",
    "import pandas as pd\n",
    "import matplotlib.pyplot as plt\n",
    "%matplotlib inline"
   ]
  },
  {
   "cell_type": "code",
   "execution_count": 28,
   "metadata": {},
   "outputs": [],
   "source": [
    "import math\n",
    "import sys\n",
    "\n",
    "class LogisticRegression():\n",
    "    def __init__(self):\n",
    "        self.features = None\n",
    "        self.weights = None\n",
    "        self.targets = None\n",
    "        self.preds = None\n",
    "    \n",
    "    def fit(self, features, targets, num_steps=300000, learning_rate=5e-5, add_intercept = False, debug=True):\n",
    "        self.features = features.copy()\n",
    "        self.targets = targets.copy()\n",
    "        self.weights = self.gradient_descent(self.features, self.targets,num_steps=num_steps, learning_rate=learning_rate, add_intercept=add_intercept, debug=debug)\n",
    "        \n",
    "    def weights(self):\n",
    "        return self.weights\n",
    "    \n",
    "    def predict(self, test_data):\n",
    "        if test_data is None:\n",
    "            raise ValueError('test_data should not be None')\n",
    "        final_scores = np.dot(test_data, lgr.weights)\n",
    "        self.preds = np.round(self.sigmoid(final_scores))\n",
    "        return self.preds\n",
    "    \n",
    "    # Linking function \n",
    "    def sigmoid(self, scores):\n",
    "        return .5 * (1 + np.tanh(.5 * scores))\n",
    "    \n",
    "    # cost given the weights \n",
    "    def currCost(self):\n",
    "        if self.features is None or self.targets is None or self.weights is None:\n",
    "            return math.inf\n",
    "        return self.cost(self.features, self.targets, self.weights)\n",
    "    \n",
    "    def gradient_descent(self, features, targets, num_steps=300000, learning_rate=5e-5, add_intercept = False, debug=False):\n",
    "        if features is None or targets is None:\n",
    "            raise ValueError('either features or targets is None')\n",
    "        if num_steps < 1:\n",
    "            num_steps = 100\n",
    "        if learning_rate < 0:\n",
    "            learning_rate = 5e-6\n",
    "        if add_intercept:\n",
    "            intercept = np.ones((features.shape[0], 1))\n",
    "            self.features = features = np.hstack((intercept, features))\n",
    "        \n",
    "        # initialize weights\n",
    "        weights = np.zeros(features.shape[1])\n",
    "\n",
    "        costs = []\n",
    "        for step in range(num_steps):\n",
    "            # Scores can go from -inf to +inf\n",
    "            scores = np.dot(features, weights)\n",
    "            # Link scores to probability range \n",
    "            predictions = self.sigmoid(scores)\n",
    "    \n",
    "            # compute error and gradient and update weights\n",
    "            error = targets - predictions\n",
    "            gradient = np.dot(features.T, error)\n",
    "            weights += learning_rate * gradient\n",
    "        \n",
    "            # For debugging\n",
    "            if debug and step % 1 == 0:\n",
    "                cost = self.cost(features, targets, weights)\n",
    "                costs.append(cost)\n",
    "        \n",
    "        if debug:\n",
    "            plt.plot(costs)\n",
    "            plt.show()\n",
    "        return weights\n",
    "    \n",
    "    def cost(self,features, targets, weights):\n",
    "        scores = np.dot(features, weights)\n",
    "        cost = np.sum(targets*scores - np.log(1 + np.exp(scores)))\n",
    "        return -cost"
   ]
  },
  {
   "cell_type": "code",
   "execution_count": 29,
   "metadata": {},
   "outputs": [],
   "source": [
    "# Sample data generation code taken from \n",
    "# https://beckernick.github.io/logistic-regression-from-scratch/\n",
    "import numpy as np\n",
    "import matplotlib.pyplot as plt\n",
    "%matplotlib inline\n",
    "\n",
    "np.random.seed(12)\n",
    "num_observations = 5000\n",
    "\n",
    "x1 = np.random.multivariate_normal([0, 0], [[1, .75],[.75, 1]], num_observations)\n",
    "x2 = np.random.multivariate_normal([1, 4], [[1, .75],[.75, 1]], num_observations)\n",
    "\n",
    "features = np.vstack((x1, x2)).astype(np.float32)\n",
    "labels = np.hstack((np.zeros(num_observations),\n",
    "                              np.ones(num_observations)))"
   ]
  },
  {
   "cell_type": "code",
   "execution_count": 30,
   "metadata": {
    "scrolled": false
   },
   "outputs": [],
   "source": [
    "lgr = LogisticRegression()\n",
    "weights = lgr.fit(features, labels, learning_rate=5e-5, num_steps=20000, add_intercept=True, debug=False)"
   ]
  },
  {
   "cell_type": "code",
   "execution_count": 31,
   "metadata": {},
   "outputs": [],
   "source": [
    "cost = lgr.currCost()"
   ]
  },
  {
   "cell_type": "code",
   "execution_count": 32,
   "metadata": {},
   "outputs": [
    {
     "data": {
      "text/plain": [
       "142.96518112122521"
      ]
     },
     "execution_count": 32,
     "metadata": {},
     "output_type": "execute_result"
    }
   ],
   "source": [
    "cost"
   ]
  },
  {
   "cell_type": "code",
   "execution_count": 33,
   "metadata": {},
   "outputs": [
    {
     "name": "stdout",
     "output_type": "stream",
     "text": [
      "[-13.99400797] [[-5.02712572  8.23286799]]\n",
      "[-12.24129164  -4.40508342   7.22264204]\n"
     ]
    }
   ],
   "source": [
    "# Comparing classifier against sklearn's logistic regression \n",
    "import sklearn.linear_model\n",
    "\n",
    "clf = sklearn.linear_model.LogisticRegression(fit_intercept=True, C = 1e15)\n",
    "clf.fit(features, labels)\n",
    "\n",
    "print(clf.intercept_, clf.coef_)\n",
    "print(lgr.weights)"
   ]
  },
  {
   "cell_type": "code",
   "execution_count": 34,
   "metadata": {},
   "outputs": [
    {
     "name": "stdout",
     "output_type": "stream",
     "text": [
      "Accuracy 0.9947\n",
      "Accuracy 0.9948\n"
     ]
    }
   ],
   "source": [
    "data_with_intercept = np.hstack((np.ones((features.shape[0], 1)),\n",
    "                                 features))\n",
    "preds = lgr.predict(data_with_intercept)\n",
    "print('Accuracy {0}'.format((preds == labels).sum().astype(float) / len(preds)))\n",
    "print('Accuracy {0}'.format(clf.score(features, labels)))"
   ]
  },
  {
   "cell_type": "code",
   "execution_count": 35,
   "metadata": {},
   "outputs": [],
   "source": [
    "def accuracy(labels, predictions):\n",
    "    return (preds == labels).sum().astype(float) / len(preds)\n",
    "\n",
    "def add_intercept(features):\n",
    "    return np.hstack((np.ones((features.shape[0], 1)),\n",
    "                                 features))"
   ]
  },
  {
   "cell_type": "code",
   "execution_count": 36,
   "metadata": {},
   "outputs": [],
   "source": [
    "# Workng on CIFAR-10 data set\n",
    "import skimage.io\n",
    "import glob\n",
    "imageFileNames = glob.glob('data/train/*.png')\n",
    "testImageFileNames = imageFileNames[:10000]\n",
    "trainImageFileNames = imageFileNames[10000:]\n",
    "\n",
    "images = []\n",
    "for imgName in trainImageFileNames:\n",
    "    images.append(skimage.io.imread(imgName))\n",
    "\n",
    "images = np.array(images)\n",
    "\n",
    "testImages = []\n",
    "for imgName in testImageFileNames:\n",
    "    testImages.append(skimage.io.imread(imgName))\n",
    "\n",
    "testImages = np.array(testImages)"
   ]
  },
  {
   "cell_type": "code",
   "execution_count": 37,
   "metadata": {},
   "outputs": [],
   "source": [
    "images = np.reshape(images, (len(images),(32*32*3)))\n",
    "testImages = np.reshape(testImages, (len(testImages),(32*32*3)))"
   ]
  },
  {
   "cell_type": "code",
   "execution_count": 38,
   "metadata": {},
   "outputs": [
    {
     "data": {
      "text/plain": [
       "(40000, 3072)"
      ]
     },
     "execution_count": 38,
     "metadata": {},
     "output_type": "execute_result"
    }
   ],
   "source": [
    "images.shape"
   ]
  },
  {
   "cell_type": "code",
   "execution_count": 39,
   "metadata": {},
   "outputs": [],
   "source": [
    "train_labels = pd.read_csv('data/trainLabels.csv')[10000:]\n",
    "test_labels = pd.read_csv('data/trainLabels.csv')[:10000]"
   ]
  },
  {
   "cell_type": "code",
   "execution_count": 40,
   "metadata": {},
   "outputs": [
    {
     "data": {
      "text/html": [
       "<div>\n",
       "<style>\n",
       "    .dataframe thead tr:only-child th {\n",
       "        text-align: right;\n",
       "    }\n",
       "\n",
       "    .dataframe thead th {\n",
       "        text-align: left;\n",
       "    }\n",
       "\n",
       "    .dataframe tbody tr th {\n",
       "        vertical-align: top;\n",
       "    }\n",
       "</style>\n",
       "<table border=\"1\" class=\"dataframe\">\n",
       "  <thead>\n",
       "    <tr style=\"text-align: right;\">\n",
       "      <th></th>\n",
       "      <th>id</th>\n",
       "      <th>label</th>\n",
       "    </tr>\n",
       "  </thead>\n",
       "  <tbody>\n",
       "    <tr>\n",
       "      <th>10000</th>\n",
       "      <td>10001</td>\n",
       "      <td>automobile</td>\n",
       "    </tr>\n",
       "    <tr>\n",
       "      <th>10001</th>\n",
       "      <td>10002</td>\n",
       "      <td>frog</td>\n",
       "    </tr>\n",
       "    <tr>\n",
       "      <th>10002</th>\n",
       "      <td>10003</td>\n",
       "      <td>frog</td>\n",
       "    </tr>\n",
       "    <tr>\n",
       "      <th>10003</th>\n",
       "      <td>10004</td>\n",
       "      <td>ship</td>\n",
       "    </tr>\n",
       "    <tr>\n",
       "      <th>10004</th>\n",
       "      <td>10005</td>\n",
       "      <td>ship</td>\n",
       "    </tr>\n",
       "  </tbody>\n",
       "</table>\n",
       "</div>"
      ],
      "text/plain": [
       "          id       label\n",
       "10000  10001  automobile\n",
       "10001  10002        frog\n",
       "10002  10003        frog\n",
       "10003  10004        ship\n",
       "10004  10005        ship"
      ]
     },
     "execution_count": 40,
     "metadata": {},
     "output_type": "execute_result"
    }
   ],
   "source": [
    "train_labels.head()"
   ]
  },
  {
   "cell_type": "code",
   "execution_count": 41,
   "metadata": {},
   "outputs": [],
   "source": [
    "# Classifying if image is a frog or not\n",
    "is_frog_labels = train_labels['label'] == 'frog'\n",
    "is_frog_labels_test = test_labels['label'] == 'frog'"
   ]
  },
  {
   "cell_type": "code",
   "execution_count": 42,
   "metadata": {},
   "outputs": [
    {
     "data": {
      "image/png": "[encoded data removed]",
      "text/plain": [
       "<matplotlib.figure.Figure at 0x7fdc81e337b8>"
      ]
     },
     "metadata": {},
     "output_type": "display_data"
    }
   ],
   "source": [
    "# Scale the pixels to prevent overflow \n",
    "images = np.divide(images, 255)\n",
    "testImages = np.divide(testImages, 255)\n",
    "\n",
    "lgr = LogisticRegression()\n",
    "lgr.fit(images, is_frog_labels, learning_rate=3e-7, num_steps=10, add_intercept=True)"
   ]
  },
  {
   "cell_type": "code",
   "execution_count": 43,
   "metadata": {},
   "outputs": [],
   "source": [
    "import sklearn.linear_model"
   ]
  },
  {
   "cell_type": "code",
   "execution_count": 44,
   "metadata": {},
   "outputs": [],
   "source": [
    "clf = sklearn.linear_model.LogisticRegression(fit_intercept=True, C = 1e15, verbose=1, max_iter=1)"
   ]
  },
  {
   "cell_type": "code",
   "execution_count": 45,
   "metadata": {},
   "outputs": [
    {
     "name": "stdout",
     "output_type": "stream",
     "text": [
      "[LibLinear]"
     ]
    },
    {
     "name": "stderr",
     "output_type": "stream",
     "text": [
      "/home/daniel/mlenv/lib/python3.5/site-packages/sklearn/svm/base.py:898: ConvergenceWarning: Liblinear failed to converge, increase the number of iterations.\n",
      "  \"the number of iterations.\", ConvergenceWarning)\n"
     ]
    },
    {
     "data": {
      "text/plain": [
       "LogisticRegression(C=1000000000000000.0, class_weight=None, dual=False,\n",
       "          fit_intercept=True, intercept_scaling=1, max_iter=1,\n",
       "          multi_class='ovr', n_jobs=1, penalty='l2', random_state=None,\n",
       "          solver='liblinear', tol=0.0001, verbose=1, warm_start=False)"
      ]
     },
     "execution_count": 45,
     "metadata": {},
     "output_type": "execute_result"
    }
   ],
   "source": [
    "clf.fit(images, is_frog_labels)"
   ]
  },
  {
   "cell_type": "code",
   "execution_count": 46,
   "metadata": {},
   "outputs": [
    {
     "name": "stdout",
     "output_type": "stream",
     "text": [
      "[-0.00215695] [[-0.0011113  -0.00115595 -0.00112589 ..., -0.00107223 -0.00106458\n",
      "  -0.00096823]]\n",
      "[-0.0044583  -0.00146619 -0.00150019 ..., -0.0015987  -0.00153975\n",
      " -0.00129167]\n"
     ]
    }
   ],
   "source": [
    "# The weights are pretty close! \n",
    "print(clf.intercept_, clf.coef_) \n",
    "print(lgr.weights)"
   ]
  },
  {
   "cell_type": "code",
   "execution_count": 47,
   "metadata": {},
   "outputs": [
    {
     "name": "stdout",
     "output_type": "stream",
     "text": [
      "My accuracy:  0.897\n",
      "Scikit-learn accuracy 0.897\n"
     ]
    }
   ],
   "source": [
    "test_images_with_intercept = add_intercept(testImages)\n",
    "preds = lgr.predict(test_images_with_intercept)\n",
    "print('My accuracy: ', accuracy(is_frog_labels_test, preds))\n",
    "print('Scikit-learn accuracy', clf.score(testImages, is_frog_labels_test))"
   ]
  },
  {
   "cell_type": "code",
   "execution_count": 53,
   "metadata": {},
   "outputs": [
    {
     "data": {
      "image/png": "[encoded data removed]",
      "text/plain": [
       "<matplotlib.figure.Figure at 0x7fdc893976a0>"
      ]
     },
     "metadata": {},
     "output_type": "display_data"
    }
   ],
   "source": [
    "# plotting the images colored by class\n",
    "plt.figure(figsize=(8, 8))\n",
    "plt.subplots_adjust(bottom=0, top=1, left=0, right=1)\n",
    "\n",
    "plt.subplot(321)\n",
    "plt.title('yellow is frog images, axis as is b/c testImage values b/w 0 and 1')\n",
    "plt.scatter(testImages[:100, 0], testImages[:100, 1], marker='o', c=is_frog_labels_test[:100],\n",
    "            s=20, edgecolor='face')\n",
    "\n",
    "\n",
    "\n",
    "import cv2\n",
    "\n",
    "img = plt.imread('data/train/6548.png',cv2.IMREAD_UNCHANGED)\n",
    "edges = cv2.Canny(img,100,200)\n",
    "\n",
    "plt.subplot(322),plt.imshow(img,cmap = 'gray')\n",
    "plt.title('Original Image'), plt.xticks([]), plt.yticks([])\n",
    "plt.subplot(323),plt.imshow(edges,cmap = 'gray')\n",
    "plt.title('Edge Image'), plt.xticks([]), plt.yticks([])\n",
    "\n",
    "plt.show()"
   ]
  },
  {
   "cell_type": "code",
   "execution_count": null,
   "metadata": {},
   "outputs": [],
   "source": []
  },
  {
   "cell_type": "code",
   "execution_count": null,
   "metadata": {},
   "outputs": [],
   "source": []
  }
 ],
 "metadata": {
  "kernelspec": {
   "display_name": "Python 3",
   "language": "python",
   "name": "python3"
  },
  "language_info": {
   "codemirror_mode": {
    "name": "ipython",
    "version": 3
   },
   "file_extension": ".py",
   "mimetype": "text/x-python",
   "name": "python",
   "nbconvert_exporter": "python",
   "pygments_lexer": "ipython3",
   "version": "3.5.2"
  }
 },
 "nbformat": 4,
 "nbformat_minor": 1
}
