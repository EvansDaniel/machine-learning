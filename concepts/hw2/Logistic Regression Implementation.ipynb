{
 "cells": [
  {
   "cell_type": "markdown",
   "metadata": {
    "toc": true
   },
   "source": [
    "<h1>Table of Contents<span class=\"tocSkip\"></span></h1>\n",
    "<div class=\"toc\" style=\"margin-top: 1em;\"><ul class=\"toc-item\"><li><ul class=\"toc-item\"><li><ul class=\"toc-item\"><li><span><a href=\"#Likelihood-definition:-the-theoretical-probability-of-having-gotten-the-observed-outcomes.\" data-toc-modified-id=\"Likelihood-definition:-the-theoretical-probability-of-having-gotten-the-observed-outcomes.-0.0.1\"><span class=\"toc-item-num\">0.0.1&nbsp;&nbsp;</span>Likelihood definition: the theoretical probability of having gotten the observed outcomes.</a></span></li><li><span><a href=\"#Objective:-$\\hat{\\theta}_{MLE}-=-\\underset{\\theta}{\\mathrm{argmin}}&#10;\\-L(\\theta;-x_1,x_2,....,x_n)$\" data-toc-modified-id=\"Objective:-$\\hat{\\theta}_{MLE}-=-\\underset{\\theta}{\\mathrm{argmin}}\n",
    "\\-L(\\theta;-x_1,x_2,....,x_n)$-0.0.2\"><span class=\"toc-item-num\">0.0.2&nbsp;&nbsp;</span>Objective: $\\hat{\\theta}_{MLE} = \\underset{\\theta}{\\mathrm{argmin}}\n",
    "\\ L(\\theta; x_1,x_2,....,x_n)$</a></span></li><li><span><a href=\"#(conditional)-Likelihood-function-to-maximize\" data-toc-modified-id=\"(conditional)-Likelihood-function-to-maximize-0.0.3\"><span class=\"toc-item-num\">0.0.3&nbsp;&nbsp;</span>(conditional) Likelihood function to maximize</a></span></li><li><span><a href=\"#Link-function:\" data-toc-modified-id=\"Link-function:-0.0.4\"><span class=\"toc-item-num\">0.0.4&nbsp;&nbsp;</span>Link function:</a></span></li><li><span><a href=\"#Log-(conditional)-likelihood-function-to-maximize\" data-toc-modified-id=\"Log-(conditional)-likelihood-function-to-maximize-0.0.5\"><span class=\"toc-item-num\">0.0.5&nbsp;&nbsp;</span>Log (conditional) likelihood function to maximize</a></span></li><li><span><a href=\"#There-is-another-common-way-that-the-LCL-is-written-as-well.\" data-toc-modified-id=\"There-is-another-common-way-that-the-LCL-is-written-as-well.-0.0.6\"><span class=\"toc-item-num\">0.0.6&nbsp;&nbsp;</span>There is another common way that the LCL is written as well.</a></span></li><li><span><a href=\"#Partial-derivative-of-log-conditional-likelihood-to-get-update-rule:\" data-toc-modified-id=\"Partial-derivative-of-log-conditional-likelihood-to-get-update-rule:-0.0.7\"><span class=\"toc-item-num\">0.0.7&nbsp;&nbsp;</span>Partial derivative of log conditional likelihood to get update rule:</a></span></li><li><span><a href=\"#Update-rule:-$$-\\beta_j-=-\\beta_j-+-\\alpha-\\sum_{i=1}^{N}-(y_i---h_{\\theta}(x_i))x_{ij}$$\" data-toc-modified-id=\"Update-rule:-$$-\\beta_j-=-\\beta_j-+-\\alpha-\\sum_{i=1}^{N}-(y_i---h_{\\theta}(x_i))x_{ij}$$-0.0.8\"><span class=\"toc-item-num\">0.0.8&nbsp;&nbsp;</span>Update rule: <script type=\"math/tex; mode=display\" id=\"MathJax-Element-593\"> \\beta_j = \\beta_j + \\alpha \\sum_{i=1}^{N} (y_i - h_{\\theta}(x_i))x_{ij}</script></a></span></li><li><span><a href=\"#This-is-very-important!-Always-start-with-a-$\\-\\alpha-\\leq-.00001$.-The-thought-goes-to-make-sure-that-you-have-converging-behavior-before-finding-a-more-optimal-alpha\" data-toc-modified-id=\"This-is-very-important!-Always-start-with-a-$\\-\\alpha-\\leq-.00001$.-The-thought-goes-to-make-sure-that-you-have-converging-behavior-before-finding-a-more-optimal-alpha-0.0.9\"><span class=\"toc-item-num\">0.0.9&nbsp;&nbsp;</span>This is very important! Always start with a $\\ \\alpha \\leq .00001$. The thought goes to make sure that you have converging behavior before finding a more optimal alpha</a></span></li></ul></li></ul></li></ul></div>"
   ]
  },
  {
   "cell_type": "code",
   "execution_count": 1,
   "metadata": {},
   "outputs": [
    {
     "data": {
      "image/png": "[encoded data removed]",
      "text/plain": [
       "<matplotlib.figure.Figure at 0x7f504e17fef0>"
      ]
     },
     "metadata": {},
     "output_type": "display_data"
    }
   ],
   "source": [
    "import numpy as np\n",
    "import pandas as pd\n",
    "import matplotlib.pyplot as plt\n",
    "\n",
    "data = pd.read_csv('coronary_heart_disease.csv')\n",
    "\n",
    "def s(x):\n",
    "    return 1 / (1 + np.exp(- x))\n",
    "\n",
    "domain = [-6,-5,-4,-3,-2,-1,0,1,2,3,4,5,6]\n",
    "plt.plot(domain, [s(a) for a in domain])\n",
    "plt.title('Sigmoid function on domain [-6,6]')\n",
    "plt.show()"
   ]
  },
  {
   "cell_type": "code",
   "execution_count": 2,
   "metadata": {},
   "outputs": [
    {
     "data": {
      "text/html": [
       "<div>\n",
       "<style scoped>\n",
       "    .dataframe tbody tr th:only-of-type {\n",
       "        vertical-align: middle;\n",
       "    }\n",
       "\n",
       "    .dataframe tbody tr th {\n",
       "        vertical-align: top;\n",
       "    }\n",
       "\n",
       "    .dataframe thead th {\n",
       "        text-align: right;\n",
       "    }\n",
       "</style>\n",
       "<table border=\"1\" class=\"dataframe\">\n",
       "  <thead>\n",
       "    <tr style=\"text-align: right;\">\n",
       "      <th></th>\n",
       "      <th>Age</th>\n",
       "      <th>CHD</th>\n",
       "    </tr>\n",
       "  </thead>\n",
       "  <tbody>\n",
       "    <tr>\n",
       "      <th>0</th>\n",
       "      <td>20</td>\n",
       "      <td>0</td>\n",
       "    </tr>\n",
       "    <tr>\n",
       "      <th>1</th>\n",
       "      <td>23</td>\n",
       "      <td>0</td>\n",
       "    </tr>\n",
       "    <tr>\n",
       "      <th>2</th>\n",
       "      <td>24</td>\n",
       "      <td>0</td>\n",
       "    </tr>\n",
       "    <tr>\n",
       "      <th>3</th>\n",
       "      <td>25</td>\n",
       "      <td>1</td>\n",
       "    </tr>\n",
       "    <tr>\n",
       "      <th>4</th>\n",
       "      <td>25</td>\n",
       "      <td>0</td>\n",
       "    </tr>\n",
       "  </tbody>\n",
       "</table>\n",
       "</div>"
      ],
      "text/plain": [
       "   Age  CHD\n",
       "0   20    0\n",
       "1   23    0\n",
       "2   24    0\n",
       "3   25    1\n",
       "4   25    0"
      ]
     },
     "execution_count": 2,
     "metadata": {},
     "output_type": "execute_result"
    }
   ],
   "source": [
    "data.head()"
   ]
  },
  {
   "cell_type": "code",
   "execution_count": 3,
   "metadata": {},
   "outputs": [],
   "source": [
    "data = pd.read_csv('coronary_heart_disease.csv')\n",
    "X = data['Age']\n",
    "y = data['CHD']\n",
    "from sklearn.model_selection import train_test_split\n",
    "X_train, X_test, y_train, y_test = train_test_split(X, y, \n",
    "                                                    test_size=0.33, \n",
    "                                                    random_state=42)"
   ]
  },
  {
   "cell_type": "markdown",
   "metadata": {},
   "source": [
    "### Likelihood definition: the theoretical probability of having gotten the observed outcomes.\n",
    "\n",
    "So in maximizing likelihood over all choices of theta, you can imagine that we are trying to recreate in our model the probability distribution (which would be Bernoulli in this case) from which the data is realized (because I believe that this would actually maximize the probability of having gotten the data we observed)"
   ]
  },
  {
   "cell_type": "markdown",
   "metadata": {},
   "source": [
    "### Objective: $\\hat{\\theta}_{MLE} = \\underset{\\theta}{\\mathrm{argmin}}\n",
    "\\ L(\\theta; x_1,x_2,....,x_n)$"
   ]
  },
  {
   "cell_type": "markdown",
   "metadata": {},
   "source": [
    "### (conditional) Likelihood function to maximize\n",
    "$$ L(\\theta; x_1, x_2,...,x_n) = \\prod_{i=1}^{N} p_{i}^{y_i}(1 - p_i)^{1 - y_i},$$\n",
    "<br>\n",
    "where $p_i = p(Y = 1 \\mid x_i; \\theta) = \\sigma(\\sum_{j=1}^{M} \\theta_jx_{ij}) = \\dfrac{1}{1 + \\mathrm{e}^{-(\\sum_{j=1}^{M} \\theta_jx_{ij})}}$\n",
    "###### Note that the $\\theta_0$ value is assumed to be included in the vector and $x_0 = 1$\n",
    "###### Note also that the \"where\" line is an assumption; we are assuming that the probability that Y = 1 is a nonlinear function (sigmoid function) of a linear function of x."
   ]
  },
  {
   "cell_type": "markdown",
   "metadata": {},
   "source": [
    "### Link function: \n",
    "This function, $g$, takes the mean response and returns back the linear combination of predictors and theta. $g$ is the inverse of the sigmoid function. Therefore, $g^{-1}(z)$ will be your prediction (i.e. $p(Y = 1 \\mid X; \\theta)$), where $z$ is the linear combination of theta and your predictors. This is how logistic regression fits into generalized linear models. Note that for generalized linear models use only exponential family distributions to model the response variable. \n",
    "\n",
    "The below equation gives the log odds for a single training example (x value)"
   ]
  },
  {
   "cell_type": "markdown",
   "metadata": {},
   "source": [
    "$$\\log\\dfrac{p}{1-p} = \\sum_{j=1}^{M} \\theta_jx_j$$"
   ]
  },
  {
   "cell_type": "markdown",
   "metadata": {},
   "source": [
    "### Log (conditional) likelihood function to maximize\n",
    "\n",
    "This can be done because log is a monotonic function (always increasing => x1 > x2 => log(x1) > log(x2)). This means that the same theta that maximizes the log likelihood also maximizes the likelihood. This also makes the likelihood much easier to differentiate. "
   ]
  },
  {
   "cell_type": "markdown",
   "metadata": {},
   "source": [
    "$$\n",
    "LCL = \\sum_{i=1}^{N}\\log L(\\theta; y_i \\mid x_i) \n",
    "    = \\sum_{i:y_i=1} \\log p_i + \\sum_{i:y_i=0} \\log (1 - p_i) \n",
    "    = \\sum_{i=1}^{N} y_i\\log p_i + (1-y_i)\\log(1 - p_i) \n",
    "$$"
   ]
  },
  {
   "cell_type": "markdown",
   "metadata": {},
   "source": [
    "### There is another common way that the LCL is written as well."
   ]
  },
  {
   "cell_type": "markdown",
   "metadata": {},
   "source": [
    "$$ \\text{Let} \\ z = \\sum_{j=1}^{M} \\theta_jx_{ij} $$\n",
    "$$LLC = \\sum_{i=1}^{N} y_i\\log p_i + (1-y_i)\\log(1 - p_i) $$\n",
    "$$\\ \\ \\ \\ \\ \\ \\ \\ \\ \\ \\ \\ \\ \\ \\ \\ \\ \\ \\ \\ \\ \\ \\ \\ = \\sum_{i=1}^{N} y_i\\log \\dfrac{\\mathrm{e}^z}{1+\\mathrm{e}^z} + (1-y_i)\\log(1 - \\dfrac{\\mathrm{e}^z}{1+\\mathrm{e}^z}) $$\n",
    "$$\\ \\ \\ \\ \\ \\ \\ \\ \\ \\ \\ \\ \\ \\ \\ \\ \\ = \\sum_{i=1}^{N} y_i\\log \\dfrac{\\mathrm{e}^z}{1+\\mathrm{e}^z} + (1-y_i)\\log(\\dfrac{1}{1+\\mathrm{e}^z}) $$\n",
    "$$\\ \\ \\ \\ \\ \\ \\ \\ \\ \\ \\ \\ \\ \\ \\ \\ \\  \\ \\ \\ \\ \\ \\ \\ \\ \\ = \\sum_{i=1}^{N} y_{i}z - y_i\\log(1+\\mathrm{e}^z) - (1-y_i)\\log(1+\\mathrm{e}^z) $$\n",
    "$$\\ \\ \\ \\ \\ \\ \\ \\ \\ \\ \\ \\ \\ \\ \\ \\ \\ \\ \\ \\ \\ \\ \\ \\ \\ \\  \\ \\ \\ \\ \\ \\ \\ \\ \\ \\ \\ \\ \\ = \\sum_{i=1}^{N} y_{i}z - y_i\\log(1+\\mathrm{e}^z) - \\log(1+\\mathrm{e}^z) + y_i\\log(1+\\mathrm{e}^z) $$\n",
    "$$ = \\sum_{i=1}^{N} y_{i}z - \\log(1+\\mathrm{e}^z) $$"
   ]
  },
  {
   "cell_type": "code",
   "execution_count": 4,
   "metadata": {},
   "outputs": [],
   "source": [
    "fixed_X_train = np.insert(X_train.values.reshape(-1,1), 0, 1, axis=1)\n",
    "fixed_y_train = np.array(y_train)"
   ]
  },
  {
   "cell_type": "code",
   "execution_count": 82,
   "metadata": {},
   "outputs": [],
   "source": [
    "def likelihood(theta, X_train, y_train):\n",
    "    # eps is to prevent log(0) \n",
    "    eps = .000000000000000000000000000000000001\n",
    "    s = 0.0\n",
    "    for i in range(len(X_train)):\n",
    "        p = sigmoid_hypothesis(theta, X_train[i, :])\n",
    "        y_is_one = y_train[i]*np.log(p+eps)\n",
    "        y_is_zero = (1-y_train[i])*np.log(1-p+eps)\n",
    "        s += y_is_one + y_is_zero\n",
    "    return s\n",
    "\n",
    "def sigmoid_hypothesis(theta, x):\n",
    "    return 1 / (1 + np.exp(-np.dot(theta, x)))\n",
    "\n",
    "def compare_with_sklearn_lgr(theta, X_train, y_train):\n",
    "    from sklearn.linear_model import LogisticRegression\n",
    "    clf = LogisticRegression(fit_intercept=True)\n",
    "    clf.fit(X_train, y_train)\n",
    "\n",
    "    sklearn_theta = clf.coef_.flatten()\n",
    "    print('sklearn theta', sklearn_theta, 'sklearn likelihood', likelihood(sklearn_theta, \n",
    "                                                                           X_train,\n",
    "                                                                           y_train))\n",
    "    print('scratch theta', theta, 'scratch likelihood', likelihood(theta,\n",
    "                                                                   X_train,\n",
    "                                                                   y_train))"
   ]
  },
  {
   "cell_type": "markdown",
   "metadata": {},
   "source": [
    "### Partial derivative of log conditional likelihood to get update rule:\n",
    "$$ \\frac{\\partial}{\\partial \\theta_i}LLC = \\frac{\\partial }{\\partial \\theta_i}\\sum_{i=1}^{N} y_{i}z - \\log(1+\\mathrm{e}^z) $$\n",
    "$$ = \\sum_{i=1}^{N} y_{i}x_{ij} - \\dfrac{1}{1+\\mathrm{e}^z}\\frac{\\partial}{\\partial \\theta_i}1+e^z $$\n",
    "$$ = \\sum_{i=1}^{N} y_{i}x_{ij} - \\dfrac{e^{z}x_{ij}}{1+\\mathrm{e}^z} $$\n",
    "$$ = \\sum_{i=1}^{N} (y_{i} - h_{\\theta}(x_i))x_{ij} $$\n",
    ", where $h_{\\theta}(x_i) = \\dfrac{1}{1+\\mathrm{e}^{-\\sum_{j=1}^{M} \\theta_jx_{ij}}}$\n",
    "\n",
    "### Update rule: $$ \\beta_j = \\beta_j + \\alpha \\sum_{i=1}^{N} (y_i - h_{\\theta}(x_i))x_{ij}$$"
   ]
  },
  {
   "cell_type": "markdown",
   "metadata": {},
   "source": [
    "### This is very important! Always start with a $\\ \\alpha \\leq .00001$. The thought goes to make sure that you have converging behavior before finding a more optimal alpha"
   ]
  },
  {
   "cell_type": "code",
   "execution_count": 133,
   "metadata": {
    "scrolled": true
   },
   "outputs": [
    {
     "name": "stdout",
     "output_type": "stream",
     "text": [
      "sklearn theta [-1.64784075  0.06906915] sklearn likelihood -57.7476896657\n",
      "scratch theta [-0.14083378  0.00329964] scratch likelihood -45.7770069369\n"
     ]
    }
   ],
   "source": [
    "def gd_element_wise(theta, X_train, y_train, alpha=.00001):\n",
    "    errors = np.zeros([len(y_train)])\n",
    "    for m in range(len(y_train)):\n",
    "            errors[m] = \\\n",
    "            sigmoid_hypothesis(theta, \n",
    "                               X_train[m, :]) - y_train[m]\n",
    "    for j in range(len(theta)):\n",
    "        # This is the sum next to alpha \n",
    "        gradient_j = 0.0\n",
    "        for m in range(len(y_train)):\n",
    "            gradient_j += errors[m] * X_train[m, j]\n",
    "        # Note that we subtract here because gradient has a negative value\n",
    "        # so we go in opposite direction to maximze ???\n",
    "        theta[j] = theta[j] - alpha * gradient_j\n",
    "\n",
    "def pretrain(X_train, y_train, add_intercept=True):\n",
    "    if y_train.ndim != 1: \n",
    "        raise Exception('y_train should be 1D')\n",
    "    y_train = np.array(y_train)\n",
    "    if X_train.ndim == 1: \n",
    "        X_train = np.array([np.array([x]) for x in X_train])\n",
    "    # Add intercept for x_0 = 1 \n",
    "    if add_intercept:\n",
    "        # insert syntax: arr, index, value, dimension to insert\n",
    "        # it will insert for each array in the given dimension\n",
    "        # i.e. it is broadcasted \n",
    "        X_train = np.insert(X_train, 0, 1, axis=1)\n",
    "        \n",
    "    return [X_train, y_train]\n",
    "        \n",
    "def train_element_wise(X_train, y_train, max_iter, alpha=.00001, \n",
    "                      add_intercept=True, showConverge=False):\n",
    "    X_train, y_train = pretrain(X_train, y_train, add_intercept)\n",
    "        \n",
    "    # length of theta should be === # features \n",
    "    theta = np.zeros(X_train.shape[1])\n",
    "    for i in range(max_iter):\n",
    "        gd_element_wise(theta, X_train, y_train, alpha)\n",
    "        if showConverge:\n",
    "            print('likelihood', likelihood(theta, X_train, y_train))\n",
    "    return theta\n",
    "\n",
    "theta = train_element_wise(X_train, y_train, 1000, .00003, showConverge=False)\n",
    "compare_with_sklearn_lgr(theta, fixed_X_train, fixed_y_train)"
   ]
  },
  {
   "cell_type": "code",
   "execution_count": 126,
   "metadata": {
    "scrolled": true
   },
   "outputs": [
    {
     "name": "stdout",
     "output_type": "stream",
     "text": [
      "sklearn theta [-1.64784075  0.06906915] sklearn likelihood -57.7476896657\n",
      "scratch theta [-0.14083378  0.00329964] scratch likelihood -45.7770069369\n"
     ]
    }
   ],
   "source": [
    "# some vectorization for better performance\n",
    "def h_vec(theta, X):\n",
    "    # -X @ theta is matrix multipy\n",
    "    return 1 / (1 + np.exp(-X @ theta))\n",
    "\n",
    "def gd_better(theta,  X_train, y_train, alpha=.00001):\n",
    "    # Predictions for all examples\n",
    "    predictions = h_vec(theta, X_train)\n",
    "    errors = predictions - y_train\n",
    "    for j in range(len(theta)):\n",
    "        # Note that we subtract here because gradient has a negative value\n",
    "        # so we go in opposite direction to maximze ???\n",
    "        theta[j] = theta[j] - alpha * np.dot(errors, X_train[:, j])\n",
    "        \n",
    "def train_better(X_train, y_train, max_iter, alpha=.00001, add_intercept=True, showConverge=False):\n",
    "    X_train, y_train = pretrain(X_train, y_train, add_intercept)\n",
    "    theta = np.zeros(X_train.shape[1])\n",
    "    for i in range(max_iter):\n",
    "        gd_better(theta, X_train, y_train, alpha) \n",
    "        if showConverge:\n",
    "            print('likelihood', likelihood(theta, X_train, y_train))\n",
    "    return theta\n",
    "\n",
    "theta = train_better(X_train, y_train, 1000, .00003, showConverge=False)\n",
    "compare_with_sklearn_lgr(theta, fixed_X_train, fixed_y_train)"
   ]
  },
  {
   "cell_type": "code",
   "execution_count": 123,
   "metadata": {},
   "outputs": [
    {
     "name": "stdout",
     "output_type": "stream",
     "text": [
      "likelihood -46.43788095\n",
      "sklearn theta [-1.64784075  0.06906915] sklearn likelihood -57.7476896657\n",
      "scratch theta [-0.14083378  0.00329964] scratch likelihood -45.7770069369\n"
     ]
    }
   ],
   "source": [
    "# fully vectorized - Adapted from http://cs229.stanford.edu/section/vec_demo/lr.ipynb\n",
    "def gd (theta, X_train, y_train, alpha=.00001):\n",
    "    predictions = h_vec(theta, X_train)\n",
    "    errors = predictions - y_train\n",
    "    # Note that we subtract here because gradient has a negative value\n",
    "    # so we go in opposite direction to maximze ???\n",
    "    theta -= alpha * errors @ X_train\n",
    "    \n",
    "def train_vec(X_train, y_train, max_iter, alpha=.00001, add_intercept=True, showConverge=False):\n",
    "    X_train, y_train = pretrain(X_train, y_train, add_intercept)\n",
    "    theta = np.zeros(X_train.shape[1])\n",
    "    for i in range(max_iter):\n",
    "        gd(theta, X_train, y_train, alpha)  \n",
    "        if i % 10000 == 0:\n",
    "            print('likelihood', likelihood(theta, X_train, y_train))\n",
    "    return theta\n",
    "\n",
    "theta = train_vec(X_train, y_train, 1000, .00003, showConverge=False)\n",
    "compare_with_sklearn_lgr(theta, fixed_X_train, fixed_y_train)"
   ]
  },
  {
   "cell_type": "code",
   "execution_count": null,
   "metadata": {},
   "outputs": [],
   "source": []
  }
 ],
 "metadata": {
  "kernelspec": {
   "display_name": "Python 3",
   "language": "python",
   "name": "python3"
  },
  "language_info": {
   "codemirror_mode": {
    "name": "ipython",
    "version": 3
   },
   "file_extension": ".py",
   "mimetype": "text/x-python",
   "name": "python",
   "nbconvert_exporter": "python",
   "pygments_lexer": "ipython3",
   "version": "3.5.2"
  },
  "toc": {
   "nav_menu": {},
   "number_sections": true,
   "sideBar": false,
   "skip_h1_title": false,
   "toc_cell": true,
   "toc_position": {},
   "toc_section_display": "block",
   "toc_window_display": false
  }
 },
 "nbformat": 4,
 "nbformat_minor": 2
}
