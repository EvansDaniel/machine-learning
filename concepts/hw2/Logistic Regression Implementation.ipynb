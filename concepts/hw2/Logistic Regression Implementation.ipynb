{
 "cells": [
  {
   "cell_type": "markdown",
   "metadata": {
    "toc": true
   },
   "source": [
    "<h1>Table of Contents<span class=\"tocSkip\"></span></h1>\n",
    "<div class=\"toc\" style=\"margin-top: 1em;\"><ul class=\"toc-item\"><li><ul class=\"toc-item\"><li><ul class=\"toc-item\"><li><span><a href=\"#Likelihood-definition:-the-theoretical-probability-of-having-gotten-the-observed-outcomes.\" data-toc-modified-id=\"Likelihood-definition:-the-theoretical-probability-of-having-gotten-the-observed-outcomes.-0.0.1\"><span class=\"toc-item-num\">0.0.1&nbsp;&nbsp;</span>Likelihood definition: the theoretical probability of having gotten the observed outcomes.</a></span></li><li><span><a href=\"#Objective:-$\\hat{\\theta}_{MLE}-=-\\underset{\\theta}{\\mathrm{argmin}}&#10;\\-L(\\theta;-x_1,x_2,....,x_n)$\" data-toc-modified-id=\"Objective:-$\\hat{\\theta}_{MLE}-=-\\underset{\\theta}{\\mathrm{argmin}}\n",
    "\\-L(\\theta;-x_1,x_2,....,x_n)$-0.0.2\"><span class=\"toc-item-num\">0.0.2&nbsp;&nbsp;</span>Objective: $\\hat{\\theta}_{MLE} = \\underset{\\theta}{\\mathrm{argmin}}\n",
    "\\ L(\\theta; x_1,x_2,....,x_n)$</a></span></li><li><span><a href=\"#(conditional)-Likelihood-function-to-maximize\" data-toc-modified-id=\"(conditional)-Likelihood-function-to-maximize-0.0.3\"><span class=\"toc-item-num\">0.0.3&nbsp;&nbsp;</span>(conditional) Likelihood function to maximize</a></span></li><li><span><a href=\"#Link-function:\" data-toc-modified-id=\"Link-function:-0.0.4\"><span class=\"toc-item-num\">0.0.4&nbsp;&nbsp;</span>Link function:</a></span></li><li><span><a href=\"#Log-(conditional)-likelihood-function-to-maximize\" data-toc-modified-id=\"Log-(conditional)-likelihood-function-to-maximize-0.0.5\"><span class=\"toc-item-num\">0.0.5&nbsp;&nbsp;</span>Log (conditional) likelihood function to maximize</a></span></li><li><span><a href=\"#Update-rule-for-maximization-of-likelihood:\" data-toc-modified-id=\"Update-rule-for-maximization-of-likelihood:-0.0.6\"><span class=\"toc-item-num\">0.0.6&nbsp;&nbsp;</span>Update rule for maximization of likelihood:</a></span></li></ul></li></ul></li></ul></div>"
   ]
  },
  {
   "cell_type": "code",
   "execution_count": 1,
   "metadata": {},
   "outputs": [
    {
     "data": {
      "image/png": "[encoded data removed]",
      "text/plain": [
       "<matplotlib.figure.Figure at 0x7f3425e46518>"
      ]
     },
     "metadata": {},
     "output_type": "display_data"
    }
   ],
   "source": [
    "import numpy as np\n",
    "import pandas as pd\n",
    "import matplotlib.pyplot as plt\n",
    "\n",
    "data = pd.read_csv('coronary_heart_disease.csv')\n",
    "\n",
    "def s(x):\n",
    "    return 1 / (1 + np.exp(- x))\n",
    "\n",
    "domain = [-6,-5,-4,-3,-2,-1,0,1,2,3,4,5,6]\n",
    "plt.plot(domain, [s(a) for a in domain])\n",
    "plt.title('Sigmoid function on domain [-6,6]')\n",
    "plt.show()"
   ]
  },
  {
   "cell_type": "code",
   "execution_count": 2,
   "metadata": {},
   "outputs": [
    {
     "data": {
      "text/html": [
       "<div>\n",
       "<style scoped>\n",
       "    .dataframe tbody tr th:only-of-type {\n",
       "        vertical-align: middle;\n",
       "    }\n",
       "\n",
       "    .dataframe tbody tr th {\n",
       "        vertical-align: top;\n",
       "    }\n",
       "\n",
       "    .dataframe thead th {\n",
       "        text-align: right;\n",
       "    }\n",
       "</style>\n",
       "<table border=\"1\" class=\"dataframe\">\n",
       "  <thead>\n",
       "    <tr style=\"text-align: right;\">\n",
       "      <th></th>\n",
       "      <th>Age</th>\n",
       "      <th>CHD</th>\n",
       "    </tr>\n",
       "  </thead>\n",
       "  <tbody>\n",
       "    <tr>\n",
       "      <th>0</th>\n",
       "      <td>20</td>\n",
       "      <td>0</td>\n",
       "    </tr>\n",
       "    <tr>\n",
       "      <th>1</th>\n",
       "      <td>23</td>\n",
       "      <td>0</td>\n",
       "    </tr>\n",
       "    <tr>\n",
       "      <th>2</th>\n",
       "      <td>24</td>\n",
       "      <td>0</td>\n",
       "    </tr>\n",
       "    <tr>\n",
       "      <th>3</th>\n",
       "      <td>25</td>\n",
       "      <td>1</td>\n",
       "    </tr>\n",
       "    <tr>\n",
       "      <th>4</th>\n",
       "      <td>25</td>\n",
       "      <td>0</td>\n",
       "    </tr>\n",
       "  </tbody>\n",
       "</table>\n",
       "</div>"
      ],
      "text/plain": [
       "   Age  CHD\n",
       "0   20    0\n",
       "1   23    0\n",
       "2   24    0\n",
       "3   25    1\n",
       "4   25    0"
      ]
     },
     "execution_count": 2,
     "metadata": {},
     "output_type": "execute_result"
    }
   ],
   "source": [
    "data.head()"
   ]
  },
  {
   "cell_type": "code",
   "execution_count": 3,
   "metadata": {},
   "outputs": [],
   "source": [
    "data = pd.read_csv('coronary_heart_disease.csv')\n",
    "X = data['Age']\n",
    "y = data['CHD']\n",
    "from sklearn.model_selection import train_test_split\n",
    "X_train, X_test, y_train, y_test = train_test_split(X, y, \n",
    "                                                    test_size=0.33, \n",
    "                                                    random_state=42)"
   ]
  },
  {
   "cell_type": "markdown",
   "metadata": {},
   "source": [
    "### Likelihood definition: the theoretical probability of having gotten the observed outcomes.\n",
    "\n",
    "So in maximizing likelihood over all choices of theta, you can imagine that we are trying to recreate in our model the probability distribution (which would be Bernoulli in this case) from which the data is realized (because I believe that this would actually maximize the probability of having gotten the data we observed)"
   ]
  },
  {
   "cell_type": "markdown",
   "metadata": {},
   "source": [
    "### Objective: $\\hat{\\theta}_{MLE} = \\underset{\\theta}{\\mathrm{argmin}}\n",
    "\\ L(\\theta; x_1,x_2,....,x_n)$"
   ]
  },
  {
   "cell_type": "markdown",
   "metadata": {},
   "source": [
    "### (conditional) Likelihood function to maximize\n",
    "$$ L(\\theta; x_1, x_2,...,x_n) = \\prod_{i=1}^{N} p_{i}^{y_i}(1 - p_i)^{1 - y_i},$$\n",
    "<br>\n",
    "where $p_i = p(Y = 1 \\mid x_i; \\theta) = \\sigma(\\sum_{j=1}^{M} \\theta_jx_{ij}) = \\dfrac{1}{1 + \\mathrm{e}^{-(\\sum_{j=1}^{M} \\theta_jx_{ij})}}$\n",
    "###### Note that the $\\theta_0$ value is assumed to be included in the vector and $x_0 = 1$\n",
    "###### Note also that the \"where\" line is an assumption; we are assuming that the probability that Y = 1 is a nonlinear function (sigmoid function) of a linear function of x."
   ]
  },
  {
   "cell_type": "markdown",
   "metadata": {},
   "source": [
    "### Link function: \n",
    "This function, $g$, takes the mean response and returns back the linear combination of predictors and theta. $g$ is the inverse of the sigmoid function. Therefore, $g^{-1}(z)$ will be your prediction (i.e. $p(Y = 1 \\mid X; \\theta)$), where $z$ is the linear combination of theta and your predictors. This is how logistic regression fits into generalized linear models. Note that for generalized linear models use only exponential family distributions to model the response variable. \n",
    "\n",
    "The below equation gives the log odds for a single training example (x value)"
   ]
  },
  {
   "cell_type": "markdown",
   "metadata": {},
   "source": [
    "$$\\log\\dfrac{p}{1-p} = \\sum_{j=1}^{M} \\theta_jx_j$$"
   ]
  },
  {
   "cell_type": "markdown",
   "metadata": {},
   "source": [
    "### Log (conditional) likelihood function to maximize\n",
    "\n",
    "This can be done because log is a monotonic function (always increasing => x1 > x2 => log(x1) > log(x2)). This means that the same theta that maximizes the log likelihood also maximizes the likelihood. This also makes the likelihood much easier to differentiate. "
   ]
  },
  {
   "cell_type": "markdown",
   "metadata": {},
   "source": [
    "$$\n",
    "LCL = \\sum_{i=1}^{N}\\log L(\\theta; y_i \\mid x_i) \n",
    "    = \\sum_{i:y_i=1} \\log p_i + \\sum_{i:y_i=0} \\log (1 - p_i) \n",
    "    = \\sum_{i=1}^{N} y_i\\log p_i + (1-y_i)\\log(1 - p_i) \n",
    "$$"
   ]
  },
  {
   "cell_type": "code",
   "execution_count": 14,
   "metadata": {},
   "outputs": [],
   "source": [
    "def likelihood(theta, X_train, y_train):\n",
    "    s = 0.0\n",
    "    for i in range(len(X_train)):\n",
    "        p = sigmoid_hypothesis(theta, X_train[i, :])\n",
    "        s += y_train[i]*np.log(p) + (1-y_train[i])*np.log(1-p)\n",
    "    return s\n",
    "\n",
    "def sigmoid_hypothesis(theta, x):\n",
    "    return 1 / (1 + np.exp(-np.dot(theta, x)))"
   ]
  },
  {
   "cell_type": "markdown",
   "metadata": {},
   "source": [
    "### Update rule for maximization of likelihood:\n",
    "$$ \\beta_j = \\beta_j + \\alpha \\sum_{i=1}^{N} (y_i - p_i)x_{ij}$$"
   ]
  },
  {
   "cell_type": "code",
   "execution_count": 15,
   "metadata": {},
   "outputs": [
    {
     "data": {
      "text/plain": [
       "array([ -4.83754541e+00,   1.83776165e-03])"
      ]
     },
     "execution_count": 15,
     "metadata": {},
     "output_type": "execute_result"
    }
   ],
   "source": [
    "def ga_element_wise(theta, X_train, y_train, alpha):\n",
    "    diff_y_p = np.zeros([len(y_train)])\n",
    "    for m in range(len(y_train)):\n",
    "            diff_y_p[m] = \\\n",
    "            sigmoid_hypothesis(theta, \n",
    "                               X_train[m, :]) - y_train[m]\n",
    "    for j in range(len(theta)):\n",
    "        # This is the sum next to alpha \n",
    "        s = 0.0\n",
    "        for m in range(len(y_train)):\n",
    "            s += diff_y_p[m] * X_train[m, j]\n",
    "        theta[j] = theta[j] - alpha * s\n",
    "        \n",
    "def pretrain(X_train, y_train, add_intercept=True):\n",
    "    if y_train.ndim != 1: \n",
    "        raise Exception('y_train should be 1D')\n",
    "    y_train = np.array(y_train)\n",
    "    if X_train.ndim == 1: \n",
    "        X_train = np.array([np.array([x]) for x in X_train])\n",
    "    # Add intercept for x_0 = 1 \n",
    "    if add_intercept:\n",
    "        # insert goes arr, index, value, dimension to insert\n",
    "        # it will insert for each array in the given dimension\n",
    "        # i.e. it is broadcasted \n",
    "        X_train = np.insert(X_train, 0, 1, axis=1)\n",
    "        \n",
    "    return [X_train, y_train]\n",
    "        \n",
    "def train_element_wise(X_train, y_train, max_iter, alpha, \n",
    "                      add_intercept=True):\n",
    "    X_train, y_train = pretrain(X_train, y_train, add_intercept)\n",
    "        \n",
    "    # length of theta should be === # features \n",
    "    theta = np.zeros(X_train.shape[1])\n",
    "    for i in range(max_iter):\n",
    "        ga_element_wise(theta, X_train, y_train, alpha)       \n",
    "    return theta\n",
    "\n",
    "train_element_wise(X_train, y_train, 1000, .001)"
   ]
  },
  {
   "cell_type": "code",
   "execution_count": 16,
   "metadata": {},
   "outputs": [
    {
     "name": "stdout",
     "output_type": "stream",
     "text": [
      "THETA [-0.0135  0.039 ] -69.3555197733\n",
      "THETA [-1.355847    4.35956947] nan\n",
      "THETA [-2.80364278  4.45343819] nan\n",
      "THETA [-4.24536113  4.37248035] nan\n",
      "THETA [-5.67771637  4.33118021] nan\n",
      "THETA [-7.0992793   4.53921203] nan\n",
      "THETA [-8.52170231  4.49719591] nan\n",
      "THETA [-9.94087622  4.48274925] nan\n",
      "THETA [-11.35569232   4.62014881] nan\n",
      "THETA [-12.77262973   4.54293895] nan\n",
      "THETA [-14.1908923    4.31546036] nan\n",
      "THETA [-15.60532133   4.26820713] nan\n",
      "THETA [-17.01258263   4.62415278] nan\n",
      "THETA [-18.42373213   4.70432999] nan\n",
      "THETA [-19.83899966   4.49199258] nan\n",
      "THETA [-21.24919103   4.57546813] nan\n",
      "THETA [-22.65679097   4.80936271] nan\n",
      "THETA [-24.06843318   4.76104334] nan\n",
      "THETA [-25.47957027   4.73608036] nan\n",
      "THETA [-26.89285354   4.5463816 ] nan\n",
      "THETA [-28.2998199    4.73838997] nan\n",
      "THETA [-29.71187493   4.59160398] nan\n",
      "THETA [-31.11653709   4.90721028] nan\n",
      "THETA [-32.52794013   4.77508185] nan\n",
      "THETA [-33.93617349   4.85565739] nan\n",
      "THETA [-35.34303073   5.0015568 ] nan\n",
      "THETA [-36.75430566   4.84148626] nan\n",
      "THETA [-38.16218185   4.89883706] nan\n",
      "THETA [-39.56839982   5.0541649 ] nan\n",
      "THETA [-40.97805826   4.97301288] nan\n",
      "THETA [-42.38728522   4.91293886] nan\n",
      "THETA [-43.79326479   5.06899777] nan\n",
      "THETA [-45.20052367   5.11755102] nan\n",
      "THETA [-46.60807843   5.14446641] nan\n",
      "THETA [-48.01522908   5.18523354] nan\n",
      "THETA [-49.42416672   5.10779808] nan\n",
      "THETA [-50.83020417   5.21058102] nan\n",
      "THETA [-52.23770541   5.21463806] nan\n",
      "THETA [-53.64491336   5.23616122] nan\n",
      "THETA [-55.05174037   5.28103491] nan\n",
      "THETA [-56.45868485   5.31424567] nan\n",
      "THETA [-57.86693741   5.2616939 ] nan\n",
      "THETA [-59.27507768   5.21321049] nan\n",
      "THETA [-60.68006755   5.37559944] nan\n",
      "THETA [-62.08799574   5.33454468] nan\n",
      "THETA [-63.4959734    5.28469916] nan\n",
      "THETA [-64.90154993   5.38489051] nan\n",
      "THETA [-66.30759992   5.4439041 ] nan\n",
      "THETA [-67.71427924   5.45885985] nan\n",
      "THETA [-69.120843     5.47959358] nan\n",
      "THETA [-70.52804181   5.45457206] nan\n",
      "THETA [-71.93364028   5.53740046] nan\n",
      "THETA [-73.34172189   5.44912129] nan\n",
      "THETA [-74.74696783   5.55275524] nan\n",
      "THETA [-76.15331593   5.57983138] nan\n",
      "THETA [-77.55981609   5.59711994] nan\n",
      "THETA [-78.96649484   5.5981754 ] nan\n",
      "THETA [-80.372804   5.624004] nan\n",
      "THETA [-81.77983352   5.59908672] nan\n",
      "THETA [-83.18585167   5.64296885] nan\n",
      "THETA [-84.59290464   5.61544956] nan\n",
      "THETA [-85.99823654   5.70566236] nan\n",
      "THETA [-87.40513678   5.68719756] nan\n",
      "THETA [-88.81146004   5.70805803] nan\n",
      "THETA [-90.21816769   5.70194043] nan\n",
      "THETA [-91.62440761   5.72734715] nan\n",
      "THETA [-93.03058125   5.75684413] nan\n",
      "THETA [-94.43629258   5.81785757] nan\n",
      "THETA [-95.84338122   5.78367977] nan\n",
      "THETA [-97.24894677   5.85404566] nan\n",
      "THETA [-98.6558877    5.82937748] nan\n",
      "THETA [-100.06166018    5.88483986] nan\n",
      "THETA [-101.46852282    5.86498577] nan\n",
      "THETA [-102.87404668    5.9370329 ] nan\n",
      "THETA [-104.28100208    5.91019759] nan\n",
      "THETA [-105.68671304    5.96887786] nan\n",
      "THETA [-107.09357914    5.94777687] nan\n",
      "THETA [-108.49915687    6.0152309 ] nan\n",
      "THETA [-109.90607712    5.98997966] nan\n",
      "THETA [-111.3117        6.05396979] nan\n",
      "THETA [-112.71858749    6.03063733] nan\n",
      "THETA [-114.12420715    6.09454531] nan\n",
      "THETA [-115.53108525    6.07156597] nan\n",
      "THETA [-116.93670798    6.13500417] nan\n",
      "THETA [-118.34357604    6.11246801] nan\n",
      "THETA [-119.74920147    6.1755009 ] nan\n",
      "THETA [-121.15606085    6.15335196] nan\n",
      "THETA [-122.56168873    6.21603131] nan\n",
      "THETA [-123.96854063    6.19421958] nan\n",
      "THETA [-125.37417069    6.25659214] nan\n",
      "THETA [-126.78101616    6.23507263] nan\n",
      "THETA [-128.18664815    6.29718009] nan\n",
      "THETA [-129.5934881     6.27591279] nan\n",
      "THETA [-130.99912175    6.33779193] nan\n",
      "THETA [-132.40595695    6.31674158] nan\n",
      "THETA [-133.81159193    6.37842422] nan\n",
      "THETA [-135.21842274    6.35756021] nan\n",
      "THETA [-136.6240581     6.41907088] nan\n",
      "THETA [-138.03088306    6.39836835] nan\n",
      "THETA [-139.4365136     6.45970745] nan\n"
     ]
    },
    {
     "name": "stderr",
     "output_type": "stream",
     "text": [
      "/home/daniel/mlenv/lib/python3.5/site-packages/ipykernel_launcher.py:5: RuntimeWarning: divide by zero encountered in log\n",
      "  \"\"\"\n",
      "/home/daniel/mlenv/lib/python3.5/site-packages/ipykernel_launcher.py:5: RuntimeWarning: invalid value encountered in multiply\n",
      "  \"\"\"\n"
     ]
    }
   ],
   "source": [
    "# some vectorization for better performance\n",
    "def h_vec(theta, X):\n",
    "    return 1 / (1 + np.exp(-np.matmul(X, theta)))\n",
    "\n",
    "def gd_better(theta,  X_train, y_train, alpha):\n",
    "    diff_arr = h_vec(theta, X_train) - y_train\n",
    "    for j in range(len(theta)):\n",
    "        theta[j] = theta[j] - alpha * np.dot(diff_arr, X_train[:, j])\n",
    "        \n",
    "def train_better(X_train, y_train, max_iter, alpha, add_intercept=True):\n",
    "    X_train, y_train = pretrain(X_train, y_train, add_intercept)\n",
    "    theta = np.zeros(X_train.shape[1])\n",
    "    for i in range(max_iter):\n",
    "        gd_better(theta, X_train, y_train, alpha) \n",
    "        if i % 100 == 0:\n",
    "            print('THETA', theta, likelihood(theta, X_train, y_train))\n",
    "    return theta\n",
    "\n",
    "theta = train_better(X_train, y_train, 10000, .003)"
   ]
  },
  {
   "cell_type": "code",
   "execution_count": 13,
   "metadata": {},
   "outputs": [
    {
     "name": "stdout",
     "output_type": "stream",
     "text": [
      "[-2.3913889] [[ 0.05025845]]\n",
      "[-140.92776034    2.06773864]\n"
     ]
    }
   ],
   "source": [
    "from sklearn.linear_model import LogisticRegression\n",
    "clf = LogisticRegression(fit_intercept=True)\n",
    "clf.fit(X_train, y_train)\n",
    "\n",
    "print(clf.intercept_, clf.coef_)\n",
    "print(theta)"
   ]
  },
  {
   "cell_type": "code",
   "execution_count": null,
   "metadata": {
    "scrolled": false
   },
   "outputs": [],
   "source": [
    "#fully vectorized - got from http://cs229.stanford.edu/section/vec_demo/lr.ipynb\n",
    "def gd (theta, X_train, y_train, alpha):\n",
    "    theta -= alpha * np.squeeze(np.matmul(np.reshape(h_vec(theta, X_train) - y_train, [1, -1]), X_train))\n",
    "    \n",
    "def train_vec(X_train, y_train, max_iter, alpha, add_intercept=True):\n",
    "    X_train, y_train = pretrain(X_train, y_train, add_intercept)\n",
    "    theta = np.zeros(X_train.shape[1])\n",
    "    for i in range(max_iter):\n",
    "        gd(theta, X_train, y_train, alpha)       \n",
    "    return theta\n",
    "train_vec(X_train, y_train, 1000, .001)"
   ]
  },
  {
   "cell_type": "code",
   "execution_count": null,
   "metadata": {},
   "outputs": [],
   "source": []
  }
 ],
 "metadata": {
  "kernelspec": {
   "display_name": "Python 3",
   "language": "python",
   "name": "python3"
  },
  "language_info": {
   "codemirror_mode": {
    "name": "ipython",
    "version": 3
   },
   "file_extension": ".py",
   "mimetype": "text/x-python",
   "name": "python",
   "nbconvert_exporter": "python",
   "pygments_lexer": "ipython3",
   "version": "3.5.2"
  },
  "toc": {
   "nav_menu": {},
   "number_sections": true,
   "sideBar": false,
   "skip_h1_title": false,
   "toc_cell": true,
   "toc_position": {},
   "toc_section_display": "block",
   "toc_window_display": false
  }
 },
 "nbformat": 4,
 "nbformat_minor": 2
}
