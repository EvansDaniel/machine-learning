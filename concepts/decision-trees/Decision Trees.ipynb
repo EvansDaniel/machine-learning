{
 "cells": [
  {
   "cell_type": "markdown",
   "metadata": {},
   "source": [
    "### Gini Impurity:\n",
    "\n",
    "$$ I_G(f) = \\sum_{i=1}^{M} f_i(1-f_i) = \\sum_{i=1}^{M} (f_i - f_i^2) = \\sum_{i=1}^{M} f_i - \\sum_{i=1}^{M} f_i^2 = 1 - \\sum_{i=1}^{M} f_i^2 = \\sum_{i = 1, i \\neq k}^{M} f_i f_k $$"
   ]
  },
  {
   "cell_type": "code",
   "execution_count": null,
   "metadata": {},
   "outputs": [],
   "source": []
  }
 ],
 "metadata": {
  "kernelspec": {
   "display_name": "Python 3",
   "language": "python",
   "name": "python3"
  },
  "language_info": {
   "codemirror_mode": {
    "name": "ipython",
    "version": 3
   },
   "file_extension": ".py",
   "mimetype": "text/x-python",
   "name": "python",
   "nbconvert_exporter": "python",
   "pygments_lexer": "ipython3",
   "version": "3.6.1"
  },
  "toc": {
   "nav_menu": {},
   "number_sections": true,
   "sideBar": true,
   "skip_h1_title": false,
   "title_cell": "Table of Contents",
   "title_sidebar": "Contents",
   "toc_cell": false,
   "toc_position": {},
   "toc_section_display": true,
   "toc_window_display": false
  }
 },
 "nbformat": 4,
 "nbformat_minor": 2
}
