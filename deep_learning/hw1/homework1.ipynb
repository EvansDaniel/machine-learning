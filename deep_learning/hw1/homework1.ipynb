{
 "cells": [
  {
   "cell_type": "code",
   "execution_count": 9,
   "metadata": {},
   "outputs": [],
   "source": [
    "import numpy as np\n",
    "import matplotlib.pyplot as plt"
   ]
  },
  {
   "cell_type": "markdown",
   "metadata": {
    "toc": true
   },
   "source": [
    "<h1>Table of Contents<span class=\"tocSkip\"></span></h1>\n",
    "<div class=\"toc\" style=\"margin-top: 1em;\"><ul class=\"toc-item\"><li><span><a href=\"#Fit-a-polynomial-of-degree-m-to-your-training-data,-letting-$m-=-1,-2,-...$.-A-polynomial-of-degree-$m$-has-the-form-$$-p(x,-\\textbf{w})-=-w_0-+-w_1x-+-w_2x^2-+-...-+-w_mx^m-$$Fit-by-minimizing-the-mean-squared-error-$E(W)$-via-differentiating-with-respect-to-$\\textbf{w}$-and-solving-the-resulting-linear-equation;-this-will-give-the-optimal-weight-vector,-$w^*-$,-with-minimal-error-$-E(w^*)$.\" data-toc-modified-id=\"Fit-a-polynomial-of-degree-m-to-your-training-data,-letting-$m-=-1,-2,-...$.-A-polynomial-of-degree-$m$-has-the-form-$$-p(x,-\\textbf{w})-=-w_0-+-w_1x-+-w_2x^2-+-...-+-w_mx^m-$$Fit-by-minimizing-the-mean-squared-error-$E(W)$-via-differentiating-with-respect-to-$\\textbf{w}$-and-solving-the-resulting-linear-equation;-this-will-give-the-optimal-weight-vector,-$w^*-$,-with-minimal-error-$-E(w^*)$.-1\"><span class=\"toc-item-num\">1&nbsp;&nbsp;</span>Fit a polynomial of degree m to your training data, letting $m = 1, 2, ...$. A polynomial of degree $m$ has the form<br><br> <script type=\"math/tex; mode=display\" id=\"MathJax-Element-126\"> p(x, \\textbf{w}) = w_0 + w_1x + w_2x^2 + ... + w_mx^m </script><br>Fit by minimizing the mean squared error $E(W)$ via differentiating with respect to $\\textbf{w}$ and solving the resulting linear equation; this will give the optimal weight vector, $w^* $, with minimal error $ E(w^*)$.</a></span></li></ul></div>"
   ]
  },
  {
   "cell_type": "markdown",
   "metadata": {},
   "source": [
    "# Fit a polynomial of degree m to your training data, letting $m = 1, 2, ...$. A polynomial of degree $m$ has the form<br><br> $$ p(x, \\textbf{w}) = w_0 + w_1x + w_2x^2 + ... + w_mx^m $$<br>Fit by minimizing the mean squared error $E(W)$ via differentiating with respect to $\\textbf{w}$ and solving the resulting linear equation; this will give the optimal weight vector, $w^* $, with minimal error $ E(w^*)$.\n"
   ]
  },
  {
   "cell_type": "code",
   "execution_count": 65,
   "metadata": {},
   "outputs": [
    {
     "data": {
      "image/png": "[encoded data removed]",
      "text/plain": [
       "<matplotlib.figure.Figure at 0x7f9d2d2aeba8>"
      ]
     },
     "metadata": {},
     "output_type": "display_data"
    },
    {
     "data": {
      "text/plain": [
       "array([ 1.26960286,  0.1198294 , -0.30859164, -0.58096364, -0.71284313,\n",
       "       -1.14503851,  0.17410827, -0.19988104,  0.76625646,  1.26966971])"
      ]
     },
     "execution_count": 65,
     "metadata": {},
     "output_type": "execute_result"
    }
   ],
   "source": [
    "mu, sigma = 0, .25\n",
    "noise = np.random.normal(loc=mu, scale=sigma, size=10)\n",
    "x_train = .6*np.linspace(1, 10, 10)\n",
    "y_train = np.cos(x) + noise\n",
    "plt.plot(y)\n",
    "plt.show()\n",
    "y"
   ]
  },
  {
   "cell_type": "code",
   "execution_count": 72,
   "metadata": {},
   "outputs": [
    {
     "data": {
      "text/plain": [
       "matrix([[  1.00000000e+01,   3.30000000e+01,   1.38600000e+02,\n",
       "           6.53400000e+02,   3.28315680e+03,   1.71713520e+04,\n",
       "           9.23044637e+04,   5.06136185e+05,   2.81724231e+06,\n",
       "           1.58653671e+07],\n",
       "        [  3.30000000e+01,   1.38600000e+02,   6.53400000e+02,\n",
       "           3.28315680e+03,   1.71713520e+04,   9.23044637e+04,\n",
       "           5.06136185e+05,   2.81724231e+06,   1.58653671e+07,\n",
       "           9.01813224e+07],\n",
       "        [  1.38600000e+02,   6.53400000e+02,   3.28315680e+03,\n",
       "           1.71713520e+04,   9.23044637e+04,   5.06136185e+05,\n",
       "           2.81724231e+06,   1.58653671e+07,   9.01813224e+07,\n",
       "           5.16493560e+08],\n",
       "        [  6.53400000e+02,   3.28315680e+03,   1.71713520e+04,\n",
       "           9.23044637e+04,   5.06136185e+05,   2.81724231e+06,\n",
       "           1.58653671e+07,   9.01813224e+07,   5.16493560e+08,\n",
       "           2.97659428e+09],\n",
       "        [  3.28315680e+03,   1.71713520e+04,   9.23044637e+04,\n",
       "           5.06136185e+05,   2.81724231e+06,   1.58653671e+07,\n",
       "           9.01813224e+07,   5.16493560e+08,   2.97659428e+09,\n",
       "           1.72438525e+10],\n",
       "        [  1.71713520e+04,   9.23044637e+04,   5.06136185e+05,\n",
       "           2.81724231e+06,   1.58653671e+07,   9.01813224e+07,\n",
       "           5.16493560e+08,   2.97659428e+09,   1.72438525e+10,\n",
       "           1.00335754e+11],\n",
       "        [  9.23044637e+04,   5.06136185e+05,   2.81724231e+06,\n",
       "           1.58653671e+07,   9.01813224e+07,   5.16493560e+08,\n",
       "           2.97659428e+09,   1.72438525e+10,   1.00335754e+11,\n",
       "           5.86003233e+11],\n",
       "        [  5.06136185e+05,   2.81724231e+06,   1.58653671e+07,\n",
       "           9.01813224e+07,   5.16493560e+08,   2.97659428e+09,\n",
       "           1.72438525e+10,   1.00335754e+11,   5.86003233e+11,\n",
       "           3.43348996e+12],\n",
       "        [  2.81724231e+06,   1.58653671e+07,   9.01813224e+07,\n",
       "           5.16493560e+08,   2.97659428e+09,   1.72438525e+10,\n",
       "           1.00335754e+11,   5.86003233e+11,   3.43348996e+12,\n",
       "           2.01730774e+13],\n",
       "        [  1.58653671e+07,   9.01813224e+07,   5.16493560e+08,\n",
       "           2.97659428e+09,   1.72438525e+10,   1.00335754e+11,\n",
       "           5.86003233e+11,   3.43348996e+12,   2.01730774e+13,\n",
       "           1.18809193e+14]])"
      ]
     },
     "execution_count": 72,
     "metadata": {},
     "output_type": "execute_result"
    }
   ],
   "source": [
    "# Building matrix for left side of nonnormalized equation\n",
    "# letting m = n  <------- ???\n",
    "n = len(x_train)\n",
    "m = n\n",
    "\n",
    "left_matrix = []\n",
    "right_matrix = []\n",
    "\n",
    "extra = 0\n",
    "for r in range(0, n): # Builds matrix\n",
    "    left_row = []\n",
    "    for m_i in range(0+extra, m+extra): # Builds a row \n",
    "        value = 0\n",
    "        for x in x_train: # Gives single element of row \n",
    "            value += x ** m_i \n",
    "        left_row.append(value)\n",
    "    \n",
    "    # for i in range(m):\n",
    "    #     value =  x ** i * len(x_train) *\n",
    "    \n",
    "    left_matrix.append(left_row)\n",
    "    # right_matrix.append(left_row)\n",
    "    extra += 1\n",
    "\n",
    "left_matrix = np.matrix(left_matrix)\n",
    "left_matrix"
   ]
  },
  {
   "cell_type": "code",
   "execution_count": null,
   "metadata": {},
   "outputs": [],
   "source": [
    "# Will solve the resulting linear equation with numpy.linalg.solve"
   ]
  }
 ],
 "metadata": {
  "kernelspec": {
   "display_name": "Python 3",
   "language": "python",
   "name": "python3"
  },
  "language_info": {
   "codemirror_mode": {
    "name": "ipython",
    "version": 3
   },
   "file_extension": ".py",
   "mimetype": "text/x-python",
   "name": "python",
   "nbconvert_exporter": "python",
   "pygments_lexer": "ipython3",
   "version": "3.5.2"
  },
  "toc": {
   "nav_menu": {},
   "number_sections": true,
   "sideBar": false,
   "skip_h1_title": false,
   "toc_cell": true,
   "toc_position": {},
   "toc_section_display": "block",
   "toc_window_display": false
  }
 },
 "nbformat": 4,
 "nbformat_minor": 2
}
